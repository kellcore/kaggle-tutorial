{
 "cells": [
  {
   "cell_type": "markdown",
   "id": "0ea606d4",
   "metadata": {
    "papermill": {
     "duration": 0.008884,
     "end_time": "2022-10-19T19:37:24.714149",
     "exception": false,
     "start_time": "2022-10-19T19:37:24.705265",
     "status": "completed"
    },
    "tags": []
   },
   "source": [
    "**This notebook is an exercise in the [Python](https://www.kaggle.com/learn/python) course.  You can reference the tutorial at [this link](https://www.kaggle.com/colinmorris/hello-python).**\n",
    "\n",
    "---\n"
   ]
  },
  {
   "cell_type": "markdown",
   "id": "f810899b",
   "metadata": {
    "papermill": {
     "duration": 0.00651,
     "end_time": "2022-10-19T19:37:24.727506",
     "exception": false,
     "start_time": "2022-10-19T19:37:24.720996",
     "status": "completed"
    },
    "tags": []
   },
   "source": [
    "Welcome to your first set of Python coding problems.  If this is your first time using Kaggle Notebooks, welcome! \n",
    "\n",
    "Notebooks are composed of blocks (called \"cells\") of text and code. Each of these is editable, though you'll mainly be editing the code cells to answer some questions.\n",
    "\n",
    "To get started, try running the code cell below (by pressing the ► button, or clicking on the cell and pressing ctrl+enter on your keyboard)."
   ]
  },
  {
   "cell_type": "code",
   "execution_count": 1,
   "id": "c33f7bd6",
   "metadata": {
    "execution": {
     "iopub.execute_input": "2022-10-19T19:37:24.742569Z",
     "iopub.status.busy": "2022-10-19T19:37:24.742103Z",
     "iopub.status.idle": "2022-10-19T19:37:24.754239Z",
     "shell.execute_reply": "2022-10-19T19:37:24.753008Z"
    },
    "papermill": {
     "duration": 0.022887,
     "end_time": "2022-10-19T19:37:24.756970",
     "exception": false,
     "start_time": "2022-10-19T19:37:24.734083",
     "status": "completed"
    },
    "tags": []
   },
   "outputs": [
    {
     "name": "stdout",
     "output_type": "stream",
     "text": [
      "You've successfully run some Python code\n",
      "Congratulations!\n"
     ]
    }
   ],
   "source": [
    "print(\"You've successfully run some Python code\")\n",
    "print(\"Congratulations!\")"
   ]
  },
  {
   "cell_type": "markdown",
   "id": "aff770dd",
   "metadata": {
    "papermill": {
     "duration": 0.006894,
     "end_time": "2022-10-19T19:37:24.770805",
     "exception": false,
     "start_time": "2022-10-19T19:37:24.763911",
     "status": "completed"
    },
    "tags": []
   },
   "source": [
    "Try adding another line of code in the cell above and re-running it. \n",
    "\n",
    "Now let's get a little fancier:  Add a new code cell by clicking on an existing code cell, hitting the escape key, and then hitting the `a` or `b` key.  The `a` key will add a cell above the current cell, and `b` adds a cell below.\n",
    "\n",
    "Great! Now you know how to use Notebooks.\n",
    "\n",
    "Each hands-on exercise starts by setting up our feedback and code checking mechanism. Run the code cell below to do that. Then you'll be ready to move on to question 0."
   ]
  },
  {
   "cell_type": "code",
   "execution_count": 2,
   "id": "9619e45b",
   "metadata": {
    "_kg_hide-input": true,
    "_kg_hide-output": true,
    "execution": {
     "iopub.execute_input": "2022-10-19T19:37:24.786964Z",
     "iopub.status.busy": "2022-10-19T19:37:24.786185Z",
     "iopub.status.idle": "2022-10-19T19:37:24.834241Z",
     "shell.execute_reply": "2022-10-19T19:37:24.832991Z"
    },
    "papermill": {
     "duration": 0.059006,
     "end_time": "2022-10-19T19:37:24.836848",
     "exception": false,
     "start_time": "2022-10-19T19:37:24.777842",
     "status": "completed"
    },
    "tags": []
   },
   "outputs": [
    {
     "name": "stdout",
     "output_type": "stream",
     "text": [
      "Setup complete! You're ready to start question 0.\n"
     ]
    }
   ],
   "source": [
    "from learntools.core import binder; binder.bind(globals())\n",
    "from learntools.python.ex1 import *\n",
    "print(\"Setup complete! You're ready to start question 0.\")"
   ]
  },
  {
   "cell_type": "markdown",
   "id": "5f59cc73",
   "metadata": {
    "papermill": {
     "duration": 0.006628,
     "end_time": "2022-10-19T19:37:24.850466",
     "exception": false,
     "start_time": "2022-10-19T19:37:24.843838",
     "status": "completed"
    },
    "tags": []
   },
   "source": [
    "# 0.\n",
    "\n",
    "*This is a silly question intended as an introduction to the format we use for hands-on exercises throughout all Kaggle courses.*\n",
    "\n",
    "**What is your favorite color? **\n",
    "\n",
    "To complete this question, create a variable called `color` in the cell below with an appropriate value. The function call `q0.check()` (which we've already provided in the cell below) will check your answer."
   ]
  },
  {
   "cell_type": "code",
   "execution_count": 3,
   "id": "c5573036",
   "metadata": {
    "execution": {
     "iopub.execute_input": "2022-10-19T19:37:24.866363Z",
     "iopub.status.busy": "2022-10-19T19:37:24.865532Z",
     "iopub.status.idle": "2022-10-19T19:37:24.878070Z",
     "shell.execute_reply": "2022-10-19T19:37:24.876773Z"
    },
    "papermill": {
     "duration": 0.023317,
     "end_time": "2022-10-19T19:37:24.880521",
     "exception": false,
     "start_time": "2022-10-19T19:37:24.857204",
     "status": "completed"
    },
    "tags": []
   },
   "outputs": [
    {
     "data": {
      "application/javascript": [
       "parent.postMessage({\"jupyterEvent\": \"custom.exercise_interaction\", \"data\": {\"outcomeType\": 1, \"valueTowardsCompletion\": 0.25, \"interactionType\": 1, \"questionType\": 2, \"questionId\": \"0_ExerciseFormatTutorial\", \"learnToolsVersion\": \"0.3.4\", \"failureMessage\": \"\", \"exceptionClass\": \"\", \"trace\": \"\"}}, \"*\")"
      ],
      "text/plain": [
       "<IPython.core.display.Javascript object>"
      ]
     },
     "metadata": {},
     "output_type": "display_data"
    },
    {
     "data": {
      "text/markdown": [
       "<span style=\"color:#33cc33\">Correct:</span> What?! You got it right without needing a hint or anything? Drats. Well hey, you should still continue to the next step to get some practice asking for a hint and checking solutions. (Even though you obviously don't need any help here.)"
      ],
      "text/plain": [
       "Correct: What?! You got it right without needing a hint or anything? Drats. Well hey, you should still continue to the next step to get some practice asking for a hint and checking solutions. (Even though you obviously don't need any help here.)"
      ]
     },
     "metadata": {},
     "output_type": "display_data"
    }
   ],
   "source": [
    "# create a variable called color with an appropriate value on the line below\n",
    "# (Remember, strings in Python must be enclosed in 'single' or \"double\" quotes)\n",
    "color = \"blue\"\n",
    "\n",
    "# Check your answer\n",
    "q0.check()"
   ]
  },
  {
   "cell_type": "markdown",
   "id": "b9126edf",
   "metadata": {
    "papermill": {
     "duration": 0.006714,
     "end_time": "2022-10-19T19:37:24.894786",
     "exception": false,
     "start_time": "2022-10-19T19:37:24.888072",
     "status": "completed"
    },
    "tags": []
   },
   "source": [
    "Didn't get the right answer? How do you not even know your own favorite color?!\n",
    "\n",
    "Delete the `#` in the line below to make one of the lines run. You can choose between getting a hint or the full answer by choosing which line to remove the `#` from. \n",
    "\n",
    "Removing the `#` is called uncommenting, because it changes that line from a \"comment\" which Python doesn't run to code, which Python does run."
   ]
  },
  {
   "cell_type": "code",
   "execution_count": 4,
   "id": "ed9bceb9",
   "metadata": {
    "execution": {
     "iopub.execute_input": "2022-10-19T19:37:24.911084Z",
     "iopub.status.busy": "2022-10-19T19:37:24.910262Z",
     "iopub.status.idle": "2022-10-19T19:37:24.919259Z",
     "shell.execute_reply": "2022-10-19T19:37:24.918394Z"
    },
    "papermill": {
     "duration": 0.019647,
     "end_time": "2022-10-19T19:37:24.921492",
     "exception": false,
     "start_time": "2022-10-19T19:37:24.901845",
     "status": "completed"
    },
    "tags": []
   },
   "outputs": [
    {
     "data": {
      "application/javascript": [
       "parent.postMessage({\"jupyterEvent\": \"custom.exercise_interaction\", \"data\": {\"interactionType\": 2, \"questionType\": 2, \"questionId\": \"0_ExerciseFormatTutorial\", \"learnToolsVersion\": \"0.3.4\", \"valueTowardsCompletion\": 0.0, \"failureMessage\": \"\", \"exceptionClass\": \"\", \"trace\": \"\", \"outcomeType\": 4}}, \"*\")"
      ],
      "text/plain": [
       "<IPython.core.display.Javascript object>"
      ]
     },
     "metadata": {},
     "output_type": "display_data"
    },
    {
     "data": {
      "text/markdown": [
       "<span style=\"color:#3366cc\">Hint:</span> Your favorite color rhymes with *glue*."
      ],
      "text/plain": [
       "Hint: Your favorite color rhymes with *glue*."
      ]
     },
     "metadata": {},
     "output_type": "display_data"
    }
   ],
   "source": [
    "q0.hint()\n",
    "#q0.solution()"
   ]
  },
  {
   "cell_type": "markdown",
   "id": "be8a9824",
   "metadata": {
    "papermill": {
     "duration": 0.008048,
     "end_time": "2022-10-19T19:37:24.936800",
     "exception": false,
     "start_time": "2022-10-19T19:37:24.928752",
     "status": "completed"
    },
    "tags": []
   },
   "source": [
    "The upcoming questions work the same way. The only thing that will change are the question numbers. For the next question, you'll call `q1.check()`, `q1.hint()`, `q1.solution()`, for question 2, you'll call `q2.check()`, and so on."
   ]
  },
  {
   "cell_type": "markdown",
   "id": "d0e0dff3",
   "metadata": {
    "papermill": {
     "duration": 0.008079,
     "end_time": "2022-10-19T19:37:24.952197",
     "exception": false,
     "start_time": "2022-10-19T19:37:24.944118",
     "status": "completed"
    },
    "tags": []
   },
   "source": [
    "<hr/>\n",
    "\n",
    "# 1.\n",
    "\n",
    "Complete the code below. In case it's helpful, here is the table of available arithmetic operations:\n",
    "\n",
    "\n",
    "\n",
    "| Operator     | Name           | Description                                            |\n",
    "|--------------|----------------|--------------------------------------------------------|\n",
    "| ``a + b``    | Addition       | Sum of ``a`` and ``b``                                 |\n",
    "| ``a - b``    | Subtraction    | Difference of ``a`` and ``b``                          |\n",
    "| ``a * b``    | Multiplication | Product of ``a`` and ``b``                             |\n",
    "| ``a / b``    | True division  | Quotient of ``a`` and ``b``                            |\n",
    "| ``a // b``   | Floor division | Quotient of ``a`` and ``b``, removing fractional parts |\n",
    "| ``a % b``    | Modulus        | Integer remainder after division of ``a`` by ``b``     |\n",
    "| ``a ** b``   | Exponentiation | ``a`` raised to the power of ``b``                     |\n",
    "| ``-a``       | Negation       | The negative of ``a``                                  |\n",
    "\n",
    "<span style=\"display:none\"></span>\n"
   ]
  },
  {
   "cell_type": "code",
   "execution_count": 5,
   "id": "b4730279",
   "metadata": {
    "execution": {
     "iopub.execute_input": "2022-10-19T19:37:24.969083Z",
     "iopub.status.busy": "2022-10-19T19:37:24.968265Z",
     "iopub.status.idle": "2022-10-19T19:37:24.978640Z",
     "shell.execute_reply": "2022-10-19T19:37:24.977359Z"
    },
    "papermill": {
     "duration": 0.021714,
     "end_time": "2022-10-19T19:37:24.981209",
     "exception": false,
     "start_time": "2022-10-19T19:37:24.959495",
     "status": "completed"
    },
    "tags": []
   },
   "outputs": [
    {
     "data": {
      "application/javascript": [
       "parent.postMessage({\"jupyterEvent\": \"custom.exercise_interaction\", \"data\": {\"outcomeType\": 1, \"valueTowardsCompletion\": 0.25, \"interactionType\": 1, \"questionType\": 1, \"questionId\": \"1_CircleArea\", \"learnToolsVersion\": \"0.3.4\", \"failureMessage\": \"\", \"exceptionClass\": \"\", \"trace\": \"\"}}, \"*\")"
      ],
      "text/plain": [
       "<IPython.core.display.Javascript object>"
      ]
     },
     "metadata": {},
     "output_type": "display_data"
    },
    {
     "data": {
      "text/markdown": [
       "<span style=\"color:#33cc33\">Correct</span>"
      ],
      "text/plain": [
       "Correct"
      ]
     },
     "metadata": {},
     "output_type": "display_data"
    }
   ],
   "source": [
    "pi = 3.14159 # approximate\n",
    "diameter = 3\n",
    "\n",
    "# Create a variable called 'radius' equal to half the diameter\n",
    "radius = diameter / 2\n",
    "\n",
    "# Create a variable called 'area', using the formula for the area of a circle: pi times the radius squared\n",
    "area = pi * (radius ** 2)\n",
    "\n",
    "# Check your answer\n",
    "q1.check()"
   ]
  },
  {
   "cell_type": "code",
   "execution_count": 6,
   "id": "d4a3711c",
   "metadata": {
    "execution": {
     "iopub.execute_input": "2022-10-19T19:37:24.998422Z",
     "iopub.status.busy": "2022-10-19T19:37:24.997987Z",
     "iopub.status.idle": "2022-10-19T19:37:25.007508Z",
     "shell.execute_reply": "2022-10-19T19:37:25.006353Z"
    },
    "papermill": {
     "duration": 0.020822,
     "end_time": "2022-10-19T19:37:25.009756",
     "exception": false,
     "start_time": "2022-10-19T19:37:24.988934",
     "status": "completed"
    },
    "tags": []
   },
   "outputs": [
    {
     "data": {
      "application/javascript": [
       "parent.postMessage({\"jupyterEvent\": \"custom.exercise_interaction\", \"data\": {\"interactionType\": 2, \"questionType\": 1, \"questionId\": \"1_CircleArea\", \"learnToolsVersion\": \"0.3.4\", \"valueTowardsCompletion\": 0.0, \"failureMessage\": \"\", \"exceptionClass\": \"\", \"trace\": \"\", \"outcomeType\": 4}}, \"*\")"
      ],
      "text/plain": [
       "<IPython.core.display.Javascript object>"
      ]
     },
     "metadata": {},
     "output_type": "display_data"
    },
    {
     "data": {
      "text/markdown": [
       "<span style=\"color:#3366cc\">Hint:</span> The syntax to raise a to the b'th power is `a ** b`"
      ],
      "text/plain": [
       "Hint: The syntax to raise a to the b'th power is `a ** b`"
      ]
     },
     "metadata": {},
     "output_type": "display_data"
    }
   ],
   "source": [
    "# Uncomment and run the lines below if you need help.\n",
    "q1.hint()\n",
    "#q1.solution()"
   ]
  },
  {
   "cell_type": "markdown",
   "id": "6115f9bd",
   "metadata": {
    "papermill": {
     "duration": 0.007917,
     "end_time": "2022-10-19T19:37:25.025962",
     "exception": false,
     "start_time": "2022-10-19T19:37:25.018045",
     "status": "completed"
    },
    "tags": []
   },
   "source": [
    "<hr/>\n",
    "\n",
    "# 2.\n",
    "\n",
    "Add code to the following cell to swap variables `a` and `b` (so that `a` refers to the object previously referred to by `b` and vice versa)."
   ]
  },
  {
   "cell_type": "code",
   "execution_count": 7,
   "id": "ffc31a3f",
   "metadata": {
    "execution": {
     "iopub.execute_input": "2022-10-19T19:37:25.043881Z",
     "iopub.status.busy": "2022-10-19T19:37:25.043441Z",
     "iopub.status.idle": "2022-10-19T19:37:25.055379Z",
     "shell.execute_reply": "2022-10-19T19:37:25.054049Z"
    },
    "papermill": {
     "duration": 0.023998,
     "end_time": "2022-10-19T19:37:25.057867",
     "exception": false,
     "start_time": "2022-10-19T19:37:25.033869",
     "status": "completed"
    },
    "tags": []
   },
   "outputs": [
    {
     "data": {
      "application/javascript": [
       "parent.postMessage({\"jupyterEvent\": \"custom.exercise_interaction\", \"data\": {\"outcomeType\": 1, \"valueTowardsCompletion\": 0.25, \"interactionType\": 1, \"questionType\": 2, \"questionId\": \"2_VariableSwap\", \"learnToolsVersion\": \"0.3.4\", \"failureMessage\": \"\", \"exceptionClass\": \"\", \"trace\": \"\"}}, \"*\")"
      ],
      "text/plain": [
       "<IPython.core.display.Javascript object>"
      ]
     },
     "metadata": {},
     "output_type": "display_data"
    },
    {
     "data": {
      "text/markdown": [
       "<span style=\"color:#33cc33\">Correct:</span> \n",
       "\n",
       "The most straightforward solution is to use a third variable to temporarily store one of the old values. e.g.:\n",
       "\n",
       "    tmp = a\n",
       "    a = b\n",
       "    b = tmp\n",
       "\n",
       "If you've read lots of Python code, you might have seen the following trick to swap two variables in one line:\n",
       "\n",
       "    a, b = b, a\n",
       "\n",
       "We'll demystify this bit of Python magic later when we talk about *tuples*."
      ],
      "text/plain": [
       "Correct: \n",
       "\n",
       "The most straightforward solution is to use a third variable to temporarily store one of the old values. e.g.:\n",
       "\n",
       "    tmp = a\n",
       "    a = b\n",
       "    b = tmp\n",
       "\n",
       "If you've read lots of Python code, you might have seen the following trick to swap two variables in one line:\n",
       "\n",
       "    a, b = b, a\n",
       "\n",
       "We'll demystify this bit of Python magic later when we talk about *tuples*."
      ]
     },
     "metadata": {},
     "output_type": "display_data"
    }
   ],
   "source": [
    "########### Setup code - don't touch this part ######################\n",
    "# If you're curious, these are examples of lists. We'll talk about \n",
    "# them in depth a few lessons from now. For now, just know that they're\n",
    "# yet another type of Python object, like int or float.\n",
    "a = [1, 2, 3]\n",
    "b = [3, 2, 1]\n",
    "q2.store_original_ids()\n",
    "######################################################################\n",
    "\n",
    "# Your code goes here. Swap the values to which a and b refer.\n",
    "# If you get stuck, you can always uncomment one or both of the lines in\n",
    "# the next cell for a hint, or to peek at the solution.\n",
    "\n",
    "new_a = a\n",
    "a = b\n",
    "b = new_a\n",
    "\n",
    "######################################################################\n",
    "\n",
    "# Check your answer\n",
    "q2.check()"
   ]
  },
  {
   "cell_type": "code",
   "execution_count": 8,
   "id": "937ef2ab",
   "metadata": {
    "execution": {
     "iopub.execute_input": "2022-10-19T19:37:25.076716Z",
     "iopub.status.busy": "2022-10-19T19:37:25.075946Z",
     "iopub.status.idle": "2022-10-19T19:37:25.080987Z",
     "shell.execute_reply": "2022-10-19T19:37:25.079759Z"
    },
    "papermill": {
     "duration": 0.017202,
     "end_time": "2022-10-19T19:37:25.083333",
     "exception": false,
     "start_time": "2022-10-19T19:37:25.066131",
     "status": "completed"
    },
    "tags": []
   },
   "outputs": [],
   "source": [
    "#q2.hint()"
   ]
  },
  {
   "cell_type": "code",
   "execution_count": 9,
   "id": "fd5fdd3b",
   "metadata": {
    "execution": {
     "iopub.execute_input": "2022-10-19T19:37:25.101680Z",
     "iopub.status.busy": "2022-10-19T19:37:25.100940Z",
     "iopub.status.idle": "2022-10-19T19:37:25.105966Z",
     "shell.execute_reply": "2022-10-19T19:37:25.104764Z"
    },
    "papermill": {
     "duration": 0.016689,
     "end_time": "2022-10-19T19:37:25.108236",
     "exception": false,
     "start_time": "2022-10-19T19:37:25.091547",
     "status": "completed"
    },
    "tags": []
   },
   "outputs": [],
   "source": [
    "#q2.solution()"
   ]
  },
  {
   "cell_type": "markdown",
   "id": "7002a5cd",
   "metadata": {
    "papermill": {
     "duration": 0.007847,
     "end_time": "2022-10-19T19:37:25.124269",
     "exception": false,
     "start_time": "2022-10-19T19:37:25.116422",
     "status": "completed"
    },
    "tags": []
   },
   "source": [
    "<hr/>\n",
    "\n",
    "# 3a.\n",
    "\n",
    "Add parentheses to the following expression so that it evaluates to 1."
   ]
  },
  {
   "cell_type": "code",
   "execution_count": 10,
   "id": "adedd031",
   "metadata": {
    "execution": {
     "iopub.execute_input": "2022-10-19T19:37:25.143283Z",
     "iopub.status.busy": "2022-10-19T19:37:25.142027Z",
     "iopub.status.idle": "2022-10-19T19:37:25.149824Z",
     "shell.execute_reply": "2022-10-19T19:37:25.148868Z"
    },
    "papermill": {
     "duration": 0.019484,
     "end_time": "2022-10-19T19:37:25.152071",
     "exception": false,
     "start_time": "2022-10-19T19:37:25.132587",
     "status": "completed"
    },
    "tags": []
   },
   "outputs": [
    {
     "data": {
      "text/plain": [
       "1"
      ]
     },
     "execution_count": 10,
     "metadata": {},
     "output_type": "execute_result"
    }
   ],
   "source": [
    "(5 - 3) // 2"
   ]
  },
  {
   "cell_type": "code",
   "execution_count": 11,
   "id": "a6b0b70b",
   "metadata": {
    "execution": {
     "iopub.execute_input": "2022-10-19T19:37:25.170701Z",
     "iopub.status.busy": "2022-10-19T19:37:25.170196Z",
     "iopub.status.idle": "2022-10-19T19:37:25.175289Z",
     "shell.execute_reply": "2022-10-19T19:37:25.174020Z"
    },
    "papermill": {
     "duration": 0.017196,
     "end_time": "2022-10-19T19:37:25.177664",
     "exception": false,
     "start_time": "2022-10-19T19:37:25.160468",
     "status": "completed"
    },
    "tags": []
   },
   "outputs": [],
   "source": [
    "#q3.a.hint()"
   ]
  },
  {
   "cell_type": "code",
   "execution_count": 12,
   "id": "44751df4",
   "metadata": {
    "execution": {
     "iopub.execute_input": "2022-10-19T19:37:25.197692Z",
     "iopub.status.busy": "2022-10-19T19:37:25.197231Z",
     "iopub.status.idle": "2022-10-19T19:37:25.207011Z",
     "shell.execute_reply": "2022-10-19T19:37:25.205917Z"
    },
    "papermill": {
     "duration": 0.023238,
     "end_time": "2022-10-19T19:37:25.209283",
     "exception": false,
     "start_time": "2022-10-19T19:37:25.186045",
     "status": "completed"
    },
    "tags": []
   },
   "outputs": [
    {
     "data": {
      "application/javascript": [
       "parent.postMessage({\"jupyterEvent\": \"custom.exercise_interaction\", \"data\": {\"interactionType\": 3, \"questionType\": 4, \"questionId\": \"3.1_ArithmeticParensEasy\", \"learnToolsVersion\": \"0.3.4\", \"valueTowardsCompletion\": 0.0, \"failureMessage\": \"\", \"exceptionClass\": \"\", \"trace\": \"\", \"outcomeType\": 4}}, \"*\")"
      ],
      "text/plain": [
       "<IPython.core.display.Javascript object>"
      ]
     },
     "metadata": {},
     "output_type": "display_data"
    },
    {
     "data": {
      "text/markdown": [
       "<span style=\"color:#33cc99\">Solution:</span> \n",
       "```python\n",
       "(5 - 3) // 2\n",
       "```"
      ],
      "text/plain": [
       "Solution: \n",
       "```python\n",
       "(5 - 3) // 2\n",
       "```"
      ]
     },
     "metadata": {},
     "output_type": "display_data"
    }
   ],
   "source": [
    "# Check your answer (Run this code cell to receive credit!)\n",
    "q3.a.solution()"
   ]
  },
  {
   "cell_type": "markdown",
   "id": "33df8f17",
   "metadata": {
    "papermill": {
     "duration": 0.008299,
     "end_time": "2022-10-19T19:37:25.226343",
     "exception": false,
     "start_time": "2022-10-19T19:37:25.218044",
     "status": "completed"
    },
    "tags": []
   },
   "source": [
    "# 3b.  <span title=\"A bit spicy\" style=\"color: darkgreen \">🌶️</span>\n",
    "\n",
    "<small>Questions, like this one, marked a spicy pepper are a bit harder.</small>\n",
    "\n",
    "Add parentheses to the following expression so that it evaluates to 0."
   ]
  },
  {
   "cell_type": "code",
   "execution_count": 13,
   "id": "1780d5d3",
   "metadata": {
    "execution": {
     "iopub.execute_input": "2022-10-19T19:37:25.245543Z",
     "iopub.status.busy": "2022-10-19T19:37:25.245073Z",
     "iopub.status.idle": "2022-10-19T19:37:25.252497Z",
     "shell.execute_reply": "2022-10-19T19:37:25.251272Z"
    },
    "papermill": {
     "duration": 0.020038,
     "end_time": "2022-10-19T19:37:25.255013",
     "exception": false,
     "start_time": "2022-10-19T19:37:25.234975",
     "status": "completed"
    },
    "tags": []
   },
   "outputs": [
    {
     "data": {
      "text/plain": [
       "0"
      ]
     },
     "execution_count": 13,
     "metadata": {},
     "output_type": "execute_result"
    }
   ],
   "source": [
    "8 - (3 * 2) - (1 + 1)"
   ]
  },
  {
   "cell_type": "code",
   "execution_count": 14,
   "id": "0828cf6d",
   "metadata": {
    "execution": {
     "iopub.execute_input": "2022-10-19T19:37:25.274116Z",
     "iopub.status.busy": "2022-10-19T19:37:25.273724Z",
     "iopub.status.idle": "2022-10-19T19:37:25.282882Z",
     "shell.execute_reply": "2022-10-19T19:37:25.281850Z"
    },
    "papermill": {
     "duration": 0.021411,
     "end_time": "2022-10-19T19:37:25.285176",
     "exception": false,
     "start_time": "2022-10-19T19:37:25.263765",
     "status": "completed"
    },
    "tags": []
   },
   "outputs": [
    {
     "data": {
      "application/javascript": [
       "parent.postMessage({\"jupyterEvent\": \"custom.exercise_interaction\", \"data\": {\"interactionType\": 2, \"questionType\": 4, \"questionId\": \"3.2_ArithmeticParensHard\", \"learnToolsVersion\": \"0.3.4\", \"valueTowardsCompletion\": 0.0, \"failureMessage\": \"\", \"exceptionClass\": \"\", \"trace\": \"\", \"outcomeType\": 4}}, \"*\")"
      ],
      "text/plain": [
       "<IPython.core.display.Javascript object>"
      ]
     },
     "metadata": {},
     "output_type": "display_data"
    },
    {
     "data": {
      "text/markdown": [
       "<span style=\"color:#3366cc\">Hint:</span> You may need to use several pairs of parentheses."
      ],
      "text/plain": [
       "Hint: You may need to use several pairs of parentheses."
      ]
     },
     "metadata": {},
     "output_type": "display_data"
    }
   ],
   "source": [
    "q3.b.hint()"
   ]
  },
  {
   "cell_type": "code",
   "execution_count": 15,
   "id": "6f9d0e36",
   "metadata": {
    "execution": {
     "iopub.execute_input": "2022-10-19T19:37:25.305122Z",
     "iopub.status.busy": "2022-10-19T19:37:25.304717Z",
     "iopub.status.idle": "2022-10-19T19:37:25.313784Z",
     "shell.execute_reply": "2022-10-19T19:37:25.312547Z"
    },
    "papermill": {
     "duration": 0.021874,
     "end_time": "2022-10-19T19:37:25.316240",
     "exception": false,
     "start_time": "2022-10-19T19:37:25.294366",
     "status": "completed"
    },
    "tags": []
   },
   "outputs": [
    {
     "data": {
      "application/javascript": [
       "parent.postMessage({\"jupyterEvent\": \"custom.exercise_interaction\", \"data\": {\"interactionType\": 3, \"questionType\": 4, \"questionId\": \"3.2_ArithmeticParensHard\", \"learnToolsVersion\": \"0.3.4\", \"valueTowardsCompletion\": 0.0, \"failureMessage\": \"\", \"exceptionClass\": \"\", \"trace\": \"\", \"outcomeType\": 4}}, \"*\")"
      ],
      "text/plain": [
       "<IPython.core.display.Javascript object>"
      ]
     },
     "metadata": {},
     "output_type": "display_data"
    },
    {
     "data": {
      "text/markdown": [
       "<span style=\"color:#33cc99\">Solution:</span> `(8 - 3) * (2 - (1 + 1))` is one solution. There may be others."
      ],
      "text/plain": [
       "Solution: `(8 - 3) * (2 - (1 + 1))` is one solution. There may be others."
      ]
     },
     "metadata": {},
     "output_type": "display_data"
    }
   ],
   "source": [
    "# Check your answer (Run this code cell to receive credit!)\n",
    "q3.b.solution()"
   ]
  },
  {
   "cell_type": "markdown",
   "id": "044fec77",
   "metadata": {
    "papermill": {
     "duration": 0.008956,
     "end_time": "2022-10-19T19:37:25.334241",
     "exception": false,
     "start_time": "2022-10-19T19:37:25.325285",
     "status": "completed"
    },
    "tags": []
   },
   "source": [
    "<hr/>\n",
    "\n",
    "# 4. \n",
    "Alice, Bob and Carol have agreed to pool their Halloween candy and split it evenly among themselves.\n",
    "For the sake of their friendship, any candies left over will be smashed. For example, if they collectively\n",
    "bring home 91 candies, they'll take 30 each and smash 1.\n",
    "\n",
    "Write an arithmetic expression below to calculate how many candies they must smash for a given haul."
   ]
  },
  {
   "cell_type": "code",
   "execution_count": 16,
   "id": "1f5ca4df",
   "metadata": {
    "execution": {
     "iopub.execute_input": "2022-10-19T19:37:25.354512Z",
     "iopub.status.busy": "2022-10-19T19:37:25.354034Z",
     "iopub.status.idle": "2022-10-19T19:37:25.363694Z",
     "shell.execute_reply": "2022-10-19T19:37:25.362567Z"
    },
    "papermill": {
     "duration": 0.022729,
     "end_time": "2022-10-19T19:37:25.366148",
     "exception": false,
     "start_time": "2022-10-19T19:37:25.343419",
     "status": "completed"
    },
    "tags": []
   },
   "outputs": [
    {
     "data": {
      "application/javascript": [
       "parent.postMessage({\"jupyterEvent\": \"custom.exercise_interaction\", \"data\": {\"outcomeType\": 1, \"valueTowardsCompletion\": 0.25, \"interactionType\": 1, \"questionType\": 1, \"questionId\": \"4_CandySplitting\", \"learnToolsVersion\": \"0.3.4\", \"failureMessage\": \"\", \"exceptionClass\": \"\", \"trace\": \"\"}}, \"*\")"
      ],
      "text/plain": [
       "<IPython.core.display.Javascript object>"
      ]
     },
     "metadata": {},
     "output_type": "display_data"
    },
    {
     "data": {
      "text/markdown": [
       "<span style=\"color:#33cc33\">Correct</span>"
      ],
      "text/plain": [
       "Correct"
      ]
     },
     "metadata": {},
     "output_type": "display_data"
    }
   ],
   "source": [
    "# Variables representing the number of candies collected by alice, bob, and carol\n",
    "alice_candies = 121\n",
    "bob_candies = 77\n",
    "carol_candies = 109\n",
    "\n",
    "# Your code goes here! Replace the right-hand side of this assignment with an expression\n",
    "# involving alice_candies, bob_candies, and carol_candies\n",
    "to_smash = (alice_candies + bob_candies + carol_candies) % 3\n",
    "\n",
    "# Check your answer\n",
    "q4.check()"
   ]
  },
  {
   "cell_type": "code",
   "execution_count": 17,
   "id": "77585371",
   "metadata": {
    "execution": {
     "iopub.execute_input": "2022-10-19T19:37:25.386796Z",
     "iopub.status.busy": "2022-10-19T19:37:25.386340Z",
     "iopub.status.idle": "2022-10-19T19:37:25.394412Z",
     "shell.execute_reply": "2022-10-19T19:37:25.393465Z"
    },
    "papermill": {
     "duration": 0.020996,
     "end_time": "2022-10-19T19:37:25.396650",
     "exception": false,
     "start_time": "2022-10-19T19:37:25.375654",
     "status": "completed"
    },
    "tags": []
   },
   "outputs": [
    {
     "data": {
      "application/javascript": [
       "parent.postMessage({\"jupyterEvent\": \"custom.exercise_interaction\", \"data\": {\"interactionType\": 2, \"questionType\": 1, \"questionId\": \"4_CandySplitting\", \"learnToolsVersion\": \"0.3.4\", \"valueTowardsCompletion\": 0.0, \"failureMessage\": \"\", \"exceptionClass\": \"\", \"trace\": \"\", \"outcomeType\": 4}}, \"*\")"
      ],
      "text/plain": [
       "<IPython.core.display.Javascript object>"
      ]
     },
     "metadata": {},
     "output_type": "display_data"
    },
    {
     "data": {
      "text/markdown": [
       "<span style=\"color:#3366cc\">Hint 1:</span> You'll probably want to use the modulo operator, `%`.\n",
       "(For another hint, call `.hint(2)`)"
      ],
      "text/plain": [
       "Hint 1: You'll probably want to use the modulo operator, `%`.\n",
       "(For another hint, call `.hint(2)`)"
      ]
     },
     "metadata": {},
     "output_type": "display_data"
    }
   ],
   "source": [
    "q4.hint()\n",
    "#q4.solution()"
   ]
  },
  {
   "cell_type": "markdown",
   "id": "fc3ae3c8",
   "metadata": {
    "papermill": {
     "duration": 0.009232,
     "end_time": "2022-10-19T19:37:25.415758",
     "exception": false,
     "start_time": "2022-10-19T19:37:25.406526",
     "status": "completed"
    },
    "tags": []
   },
   "source": [
    "# Keep Going\n",
    "\n",
    "Next up, you'll **[learn to write new functions and understand functions others write](https://www.kaggle.com/colinmorris/functions-and-getting-help)**. This will make you at least 10 times more productive as a Python programmer. "
   ]
  },
  {
   "cell_type": "markdown",
   "id": "3a100046",
   "metadata": {
    "papermill": {
     "duration": 0.00922,
     "end_time": "2022-10-19T19:37:25.434681",
     "exception": false,
     "start_time": "2022-10-19T19:37:25.425461",
     "status": "completed"
    },
    "tags": []
   },
   "source": [
    "---\n",
    "\n",
    "\n",
    "\n",
    "\n",
    "*Have questions or comments? Visit the [course discussion forum](https://www.kaggle.com/learn/python/discussion) to chat with other learners.*"
   ]
  }
 ],
 "metadata": {
  "kernelspec": {
   "display_name": "Python 3",
   "language": "python",
   "name": "python3"
  },
  "language_info": {
   "codemirror_mode": {
    "name": "ipython",
    "version": 3
   },
   "file_extension": ".py",
   "mimetype": "text/x-python",
   "name": "python",
   "nbconvert_exporter": "python",
   "pygments_lexer": "ipython3",
   "version": "3.7.12"
  },
  "papermill": {
   "default_parameters": {},
   "duration": 10.621556,
   "end_time": "2022-10-19T19:37:26.065508",
   "environment_variables": {},
   "exception": null,
   "input_path": "__notebook__.ipynb",
   "output_path": "__notebook__.ipynb",
   "parameters": {},
   "start_time": "2022-10-19T19:37:15.443952",
   "version": "2.3.4"
  }
 },
 "nbformat": 4,
 "nbformat_minor": 5
}
