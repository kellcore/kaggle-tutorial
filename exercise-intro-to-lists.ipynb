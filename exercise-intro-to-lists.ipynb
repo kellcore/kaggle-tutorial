{
 "cells": [
  {
   "cell_type": "markdown",
   "id": "5313f3da",
   "metadata": {
    "papermill": {
     "duration": 0.007428,
     "end_time": "2022-10-19T17:28:26.067871",
     "exception": false,
     "start_time": "2022-10-19T17:28:26.060443",
     "status": "completed"
    },
    "tags": []
   },
   "source": [
    "**This notebook is an exercise in the [Intro to Programming](https://www.kaggle.com/learn/intro-to-programming) course.  You can reference the tutorial at [this link](https://www.kaggle.com/alexisbcook/intro-to-lists).**\n",
    "\n",
    "---\n"
   ]
  },
  {
   "cell_type": "markdown",
   "id": "a07a6816",
   "metadata": {
    "papermill": {
     "duration": 0.005729,
     "end_time": "2022-10-19T17:28:26.079875",
     "exception": false,
     "start_time": "2022-10-19T17:28:26.074146",
     "status": "completed"
    },
    "tags": []
   },
   "source": [
    "In the tutorial, you learned how to define and modify Python lists.  In this exercise, you will use your new knowledge to solve several problems.\n",
    "\n",
    "# Set up the notebook\n",
    "\n",
    "Run the next code cell without changes to set up the notebook."
   ]
  },
  {
   "cell_type": "code",
   "execution_count": 1,
   "id": "a4be808f",
   "metadata": {
    "execution": {
     "iopub.execute_input": "2022-10-19T17:28:26.093601Z",
     "iopub.status.busy": "2022-10-19T17:28:26.093133Z",
     "iopub.status.idle": "2022-10-19T17:28:26.153263Z",
     "shell.execute_reply": "2022-10-19T17:28:26.151820Z"
    },
    "papermill": {
     "duration": 0.0707,
     "end_time": "2022-10-19T17:28:26.156468",
     "exception": false,
     "start_time": "2022-10-19T17:28:26.085768",
     "status": "completed"
    },
    "tags": []
   },
   "outputs": [
    {
     "name": "stdout",
     "output_type": "stream",
     "text": [
      "Setup complete.\n"
     ]
    }
   ],
   "source": [
    "from learntools.core import binder\n",
    "binder.bind(globals())\n",
    "from learntools.intro_to_programming.ex5 import *\n",
    "print('Setup complete.')"
   ]
  },
  {
   "cell_type": "markdown",
   "id": "22c73113",
   "metadata": {
    "papermill": {
     "duration": 0.005898,
     "end_time": "2022-10-19T17:28:26.168765",
     "exception": false,
     "start_time": "2022-10-19T17:28:26.162867",
     "status": "completed"
    },
    "tags": []
   },
   "source": [
    "# Question 1\n",
    "\n",
    "You own a restaurant with five food dishes, organized in the Python list `menu` below.  One day, you decide to:\n",
    "- remove bean soup (`'bean soup'`) from the menu, and\n",
    "- add roasted beet salad (`'roasted beet salad'`) to the menu.\n",
    "\n",
    "Implement this change to the list below.  While completing this task, \n",
    "- do not change the line that creates the `menu` list.  \n",
    "- your answer should use `.remove()` and `.append()`.  "
   ]
  },
  {
   "cell_type": "code",
   "execution_count": 2,
   "id": "d11e0529",
   "metadata": {
    "execution": {
     "iopub.execute_input": "2022-10-19T17:28:26.184004Z",
     "iopub.status.busy": "2022-10-19T17:28:26.182445Z",
     "iopub.status.idle": "2022-10-19T17:28:26.196864Z",
     "shell.execute_reply": "2022-10-19T17:28:26.194664Z"
    },
    "papermill": {
     "duration": 0.024772,
     "end_time": "2022-10-19T17:28:26.199639",
     "exception": false,
     "start_time": "2022-10-19T17:28:26.174867",
     "status": "completed"
    },
    "tags": []
   },
   "outputs": [
    {
     "data": {
      "application/javascript": [
       "parent.postMessage({\"jupyterEvent\": \"custom.exercise_interaction\", \"data\": {\"outcomeType\": 1, \"valueTowardsCompletion\": 0.2, \"interactionType\": 1, \"questionType\": 2, \"questionId\": \"1_FoodMenu\", \"learnToolsVersion\": \"0.3.4\", \"failureMessage\": \"\", \"exceptionClass\": \"\", \"trace\": \"\"}}, \"*\")"
      ],
      "text/plain": [
       "<IPython.core.display.Javascript object>"
      ]
     },
     "metadata": {},
     "output_type": "display_data"
    },
    {
     "data": {
      "text/markdown": [
       "<span style=\"color:#33cc33\">Correct</span>"
      ],
      "text/plain": [
       "Correct"
      ]
     },
     "metadata": {},
     "output_type": "display_data"
    }
   ],
   "source": [
    "# Do not change: Initial menu for your restaurant\n",
    "menu = ['stewed meat with onions', 'bean soup', 'risotto with trout and shrimp',\n",
    "       'fish soup with cream and onion', 'gyro']\n",
    "\n",
    "# TODO: remove 'bean soup', and add 'roasted beet salad' to the end of the menu\n",
    "menu.remove(\"bean soup\")\n",
    "menu.append(\"roasted beet salad\")\n",
    "\n",
    "# Do not change: Check your answer\n",
    "q1.check()"
   ]
  },
  {
   "cell_type": "code",
   "execution_count": 3,
   "id": "dd3ccd48",
   "metadata": {
    "execution": {
     "iopub.execute_input": "2022-10-19T17:28:26.215673Z",
     "iopub.status.busy": "2022-10-19T17:28:26.214375Z",
     "iopub.status.idle": "2022-10-19T17:28:26.219745Z",
     "shell.execute_reply": "2022-10-19T17:28:26.218825Z"
    },
    "papermill": {
     "duration": 0.015662,
     "end_time": "2022-10-19T17:28:26.222161",
     "exception": false,
     "start_time": "2022-10-19T17:28:26.206499",
     "status": "completed"
    },
    "tags": []
   },
   "outputs": [],
   "source": [
    "# Uncomment to see a hint\n",
    "#q1.hint()\n",
    "\n",
    "# Uncomment to see the solution\n",
    "#q1.solution()"
   ]
  },
  {
   "cell_type": "markdown",
   "id": "755d104d",
   "metadata": {
    "papermill": {
     "duration": 0.006354,
     "end_time": "2022-10-19T17:28:26.234975",
     "exception": false,
     "start_time": "2022-10-19T17:28:26.228621",
     "status": "completed"
    },
    "tags": []
   },
   "source": [
    "# Question 2\n",
    "\n",
    "The list `num_customers` contains the number of customers who came into your restaurant every day over the last month (which lasted thirty days).  Fill in values for each of the following:\n",
    "- `avg_first_seven` - average number of customers who visited in the first seven days\n",
    "- `avg_last_seven` - average number of customers who visited in the last seven days\n",
    "- `max_month` - number of customers on the day that got the most customers in the last month\n",
    "- `min_month` - number of customers on the day that got the least customers in the last month\n",
    "\n",
    "Answer this question by writing code.  For instance, if you have to find the minimum value in a list, use `min()` instead of scanning for the smallest value and directly filling in a number."
   ]
  },
  {
   "cell_type": "code",
   "execution_count": 4,
   "id": "4b39ae1a",
   "metadata": {
    "execution": {
     "iopub.execute_input": "2022-10-19T17:28:26.252302Z",
     "iopub.status.busy": "2022-10-19T17:28:26.251524Z",
     "iopub.status.idle": "2022-10-19T17:28:26.262445Z",
     "shell.execute_reply": "2022-10-19T17:28:26.261437Z"
    },
    "papermill": {
     "duration": 0.023669,
     "end_time": "2022-10-19T17:28:26.267443",
     "exception": false,
     "start_time": "2022-10-19T17:28:26.243774",
     "status": "completed"
    },
    "tags": []
   },
   "outputs": [
    {
     "data": {
      "application/javascript": [
       "parent.postMessage({\"jupyterEvent\": \"custom.exercise_interaction\", \"data\": {\"outcomeType\": 1, \"valueTowardsCompletion\": 0.2, \"interactionType\": 1, \"questionType\": 1, \"questionId\": \"2_NumCustomers\", \"learnToolsVersion\": \"0.3.4\", \"failureMessage\": \"\", \"exceptionClass\": \"\", \"trace\": \"\"}}, \"*\")"
      ],
      "text/plain": [
       "<IPython.core.display.Javascript object>"
      ]
     },
     "metadata": {},
     "output_type": "display_data"
    },
    {
     "data": {
      "text/markdown": [
       "<span style=\"color:#33cc33\">Correct</span>"
      ],
      "text/plain": [
       "Correct"
      ]
     },
     "metadata": {},
     "output_type": "display_data"
    }
   ],
   "source": [
    "# Do not change: Number of customers each day for the last month\n",
    "num_customers = [137, 147, 135, 128, 170, 174, 165, 146, 126, 159,\n",
    "                 141, 148, 132, 147, 168, 153, 170, 161, 148, 152,\n",
    "                 141, 151, 131, 149, 164, 163, 143, 143, 166, 171]\n",
    "\n",
    "# TODO: Fill in values for the variables below\n",
    "avg_first_seven = sum(num_customers[:7]) / (len(num_customers[:7]))\n",
    "avg_last_seven = sum(num_customers[23:]) / (len(num_customers[23:])) \n",
    "max_month = max(num_customers)\n",
    "min_month = min(num_customers)\n",
    "\n",
    "# Do not change: Check your answer\n",
    "q2.check()"
   ]
  },
  {
   "cell_type": "code",
   "execution_count": 5,
   "id": "8ef9934a",
   "metadata": {
    "execution": {
     "iopub.execute_input": "2022-10-19T17:28:26.283855Z",
     "iopub.status.busy": "2022-10-19T17:28:26.282937Z",
     "iopub.status.idle": "2022-10-19T17:28:26.288050Z",
     "shell.execute_reply": "2022-10-19T17:28:26.286895Z"
    },
    "papermill": {
     "duration": 0.016543,
     "end_time": "2022-10-19T17:28:26.290900",
     "exception": false,
     "start_time": "2022-10-19T17:28:26.274357",
     "status": "completed"
    },
    "tags": []
   },
   "outputs": [],
   "source": [
    "# Uncomment to see a hint\n",
    "#q2.hint()\n",
    "\n",
    "# Uncomment to see the solution\n",
    "#q2.solution()"
   ]
  },
  {
   "cell_type": "markdown",
   "id": "308ea04d",
   "metadata": {
    "papermill": {
     "duration": 0.008943,
     "end_time": "2022-10-19T17:28:26.308794",
     "exception": false,
     "start_time": "2022-10-19T17:28:26.299851",
     "status": "completed"
    },
    "tags": []
   },
   "source": [
    "# Question 3\n",
    "\n",
    "In the tutorial, we gave an example of a Python string with information that was better as a list."
   ]
  },
  {
   "cell_type": "code",
   "execution_count": 6,
   "id": "cc1564c7",
   "metadata": {
    "execution": {
     "iopub.execute_input": "2022-10-19T17:28:26.328520Z",
     "iopub.status.busy": "2022-10-19T17:28:26.327815Z",
     "iopub.status.idle": "2022-10-19T17:28:26.333261Z",
     "shell.execute_reply": "2022-10-19T17:28:26.332121Z"
    },
    "papermill": {
     "duration": 0.019245,
     "end_time": "2022-10-19T17:28:26.336455",
     "exception": false,
     "start_time": "2022-10-19T17:28:26.317210",
     "status": "completed"
    },
    "tags": []
   },
   "outputs": [],
   "source": [
    "flowers = \"pink primrose,hard-leaved pocket orchid,canterbury bells,sweet pea,english marigold,tiger lily,moon orchid,bird of paradise,monkshood,globe thistle\""
   ]
  },
  {
   "cell_type": "markdown",
   "id": "8350bbf2",
   "metadata": {
    "papermill": {
     "duration": 0.00712,
     "end_time": "2022-10-19T17:28:26.355419",
     "exception": false,
     "start_time": "2022-10-19T17:28:26.348299",
     "status": "completed"
    },
    "tags": []
   },
   "source": [
    "You can actually use Python to quickly turn this string into a list with `.split()`.  In the parentheses, we need to provide the character should be used to mark the end of one list item and the beginning of another, and enclose it in quotation marks.  In this case, that character is a comma."
   ]
  },
  {
   "cell_type": "code",
   "execution_count": 7,
   "id": "1a8a913f",
   "metadata": {
    "execution": {
     "iopub.execute_input": "2022-10-19T17:28:26.371847Z",
     "iopub.status.busy": "2022-10-19T17:28:26.371100Z",
     "iopub.status.idle": "2022-10-19T17:28:26.376985Z",
     "shell.execute_reply": "2022-10-19T17:28:26.375711Z"
    },
    "papermill": {
     "duration": 0.016714,
     "end_time": "2022-10-19T17:28:26.379266",
     "exception": false,
     "start_time": "2022-10-19T17:28:26.362552",
     "status": "completed"
    },
    "tags": []
   },
   "outputs": [
    {
     "name": "stdout",
     "output_type": "stream",
     "text": [
      "['pink primrose', 'hard-leaved pocket orchid', 'canterbury bells', 'sweet pea', 'english marigold', 'tiger lily', 'moon orchid', 'bird of paradise', 'monkshood', 'globe thistle']\n"
     ]
    }
   ],
   "source": [
    " print(flowers.split(\",\"))"
   ]
  },
  {
   "cell_type": "markdown",
   "id": "fd2e78ac",
   "metadata": {
    "papermill": {
     "duration": 0.006506,
     "end_time": "2022-10-19T17:28:26.392779",
     "exception": false,
     "start_time": "2022-10-19T17:28:26.386273",
     "status": "completed"
    },
    "tags": []
   },
   "source": [
    "Now it is your turn to try this out!  Create two Python lists:\n",
    "- `letters` should be a Python list where each entry is an uppercase letter of the English alphabet.  For instance, the first two entries should be `\"A\"` and `\"B\"`, and the final two entries should be `\"Y\"` and `\"Z\"`.  Use the string `alphabet` to create this list.\n",
    "- `address` should be a Python list where each row in `address` is a different item in the list.  Currently, each row in `address` is separated by a comma. "
   ]
  },
  {
   "cell_type": "code",
   "execution_count": 8,
   "id": "59292168",
   "metadata": {
    "execution": {
     "iopub.execute_input": "2022-10-19T17:28:26.408748Z",
     "iopub.status.busy": "2022-10-19T17:28:26.407505Z",
     "iopub.status.idle": "2022-10-19T17:28:26.418052Z",
     "shell.execute_reply": "2022-10-19T17:28:26.417178Z"
    },
    "papermill": {
     "duration": 0.02072,
     "end_time": "2022-10-19T17:28:26.420336",
     "exception": false,
     "start_time": "2022-10-19T17:28:26.399616",
     "status": "completed"
    },
    "tags": []
   },
   "outputs": [
    {
     "data": {
      "application/javascript": [
       "parent.postMessage({\"jupyterEvent\": \"custom.exercise_interaction\", \"data\": {\"outcomeType\": 1, \"valueTowardsCompletion\": 0.2, \"interactionType\": 1, \"questionType\": 1, \"questionId\": \"3_SplitString\", \"learnToolsVersion\": \"0.3.4\", \"failureMessage\": \"\", \"exceptionClass\": \"\", \"trace\": \"\"}}, \"*\")"
      ],
      "text/plain": [
       "<IPython.core.display.Javascript object>"
      ]
     },
     "metadata": {},
     "output_type": "display_data"
    },
    {
     "data": {
      "text/markdown": [
       "<span style=\"color:#33cc33\">Correct</span>"
      ],
      "text/plain": [
       "Correct"
      ]
     },
     "metadata": {},
     "output_type": "display_data"
    }
   ],
   "source": [
    "# DO not change: Define two Python strings\n",
    "alphabet = \"A.B.C.D.E.F.G.H.I.J.K.L.M.N.O.P.Q.R.S.T.U.V.W.X.Y.Z\"\n",
    "address = \"Mr. H. Potter,The cupboard under the Stairs,4 Privet Drive,Little Whinging,Surrey\"\n",
    "\n",
    "# TODO: Convert strings into Python lists\n",
    "letters = alphabet.split(\".\")\n",
    "formatted_address = address.split(\",\")\n",
    "\n",
    "# Do not change: Check your answer\n",
    "q3.check()"
   ]
  },
  {
   "cell_type": "code",
   "execution_count": 9,
   "id": "636886ce",
   "metadata": {
    "execution": {
     "iopub.execute_input": "2022-10-19T17:28:26.436732Z",
     "iopub.status.busy": "2022-10-19T17:28:26.435672Z",
     "iopub.status.idle": "2022-10-19T17:28:26.440918Z",
     "shell.execute_reply": "2022-10-19T17:28:26.439815Z"
    },
    "papermill": {
     "duration": 0.016079,
     "end_time": "2022-10-19T17:28:26.443527",
     "exception": false,
     "start_time": "2022-10-19T17:28:26.427448",
     "status": "completed"
    },
    "tags": []
   },
   "outputs": [],
   "source": [
    "# Uncomment to see a hint\n",
    "#q3.hint()\n",
    "\n",
    "# Uncomment to see the solution\n",
    "#q3.solution()"
   ]
  },
  {
   "cell_type": "markdown",
   "id": "a54d7924",
   "metadata": {
    "papermill": {
     "duration": 0.006869,
     "end_time": "2022-10-19T17:28:26.458161",
     "exception": false,
     "start_time": "2022-10-19T17:28:26.451292",
     "status": "completed"
    },
    "tags": []
   },
   "source": [
    "# Question 4\n",
    "\n",
    "In the Python course, you'll learn all about **list comprehensions**, which allow you to create a list based on the values in another list.  In this question, you'll get a brief preview of how they work.\n",
    "\n",
    "Say we're working with the list below."
   ]
  },
  {
   "cell_type": "code",
   "execution_count": 10,
   "id": "fc44da38",
   "metadata": {
    "execution": {
     "iopub.execute_input": "2022-10-19T17:28:26.475881Z",
     "iopub.status.busy": "2022-10-19T17:28:26.474680Z",
     "iopub.status.idle": "2022-10-19T17:28:26.479907Z",
     "shell.execute_reply": "2022-10-19T17:28:26.478912Z"
    },
    "papermill": {
     "duration": 0.0166,
     "end_time": "2022-10-19T17:28:26.482344",
     "exception": false,
     "start_time": "2022-10-19T17:28:26.465744",
     "status": "completed"
    },
    "tags": []
   },
   "outputs": [],
   "source": [
    "test_ratings = [1, 2, 3, 4, 5]"
   ]
  },
  {
   "cell_type": "markdown",
   "id": "7a89e605",
   "metadata": {
    "papermill": {
     "duration": 0.006785,
     "end_time": "2022-10-19T17:28:26.496312",
     "exception": false,
     "start_time": "2022-10-19T17:28:26.489527",
     "status": "completed"
    },
    "tags": []
   },
   "source": [
    "Then we can use this list (`test_ratings`) to create a new list (`test_liked`) where each item has been turned into a boolean, depending on whether or not the item is greater than or equal to four."
   ]
  },
  {
   "cell_type": "code",
   "execution_count": 11,
   "id": "4549574b",
   "metadata": {
    "execution": {
     "iopub.execute_input": "2022-10-19T17:28:26.512761Z",
     "iopub.status.busy": "2022-10-19T17:28:26.512052Z",
     "iopub.status.idle": "2022-10-19T17:28:26.517811Z",
     "shell.execute_reply": "2022-10-19T17:28:26.516544Z"
    },
    "papermill": {
     "duration": 0.016478,
     "end_time": "2022-10-19T17:28:26.520126",
     "exception": false,
     "start_time": "2022-10-19T17:28:26.503648",
     "status": "completed"
    },
    "tags": []
   },
   "outputs": [
    {
     "name": "stdout",
     "output_type": "stream",
     "text": [
      "[False, False, False, True, True]\n"
     ]
    }
   ],
   "source": [
    "test_liked = [i>=4 for i in test_ratings]\n",
    "print(test_liked)"
   ]
  },
  {
   "cell_type": "markdown",
   "id": "a3d55d09",
   "metadata": {
    "papermill": {
     "duration": 0.006973,
     "end_time": "2022-10-19T17:28:26.534270",
     "exception": false,
     "start_time": "2022-10-19T17:28:26.527297",
     "status": "completed"
    },
    "tags": []
   },
   "source": [
    "In this question, you'll use this list comprehension to define a function `percentage_liked()` that takes one argument as input:\n",
    "- `ratings`: list of ratings that people gave to a movie, where each rating is a number between 1-5, inclusive\n",
    "\n",
    "We say someone liked the movie, if they gave a rating of either 4 or 5.  Your function should return the percentage of people who liked the movie.\n",
    "\n",
    "For instance, if we supply a value of `[1, 2, 3, 4, 5, 4, 5, 1]`, then 50% (4/8) of the people liked the movie, and the function should return `0.5`.\n",
    "\n",
    "Part of the function has already been completed for you.  You need only use `list_liked` to calculate `percentage_liked`."
   ]
  },
  {
   "cell_type": "code",
   "execution_count": 12,
   "id": "ccf3b35f",
   "metadata": {
    "execution": {
     "iopub.execute_input": "2022-10-19T17:28:26.550497Z",
     "iopub.status.busy": "2022-10-19T17:28:26.550086Z",
     "iopub.status.idle": "2022-10-19T17:28:26.559659Z",
     "shell.execute_reply": "2022-10-19T17:28:26.558831Z"
    },
    "papermill": {
     "duration": 0.020075,
     "end_time": "2022-10-19T17:28:26.561778",
     "exception": false,
     "start_time": "2022-10-19T17:28:26.541703",
     "status": "completed"
    },
    "tags": []
   },
   "outputs": [
    {
     "data": {
      "application/javascript": [
       "parent.postMessage({\"jupyterEvent\": \"custom.exercise_interaction\", \"data\": {\"outcomeType\": 1, \"valueTowardsCompletion\": 0.2, \"interactionType\": 1, \"questionType\": 2, \"questionId\": \"4_PercentageLiked\", \"learnToolsVersion\": \"0.3.4\", \"failureMessage\": \"\", \"exceptionClass\": \"\", \"trace\": \"\"}}, \"*\")"
      ],
      "text/plain": [
       "<IPython.core.display.Javascript object>"
      ]
     },
     "metadata": {},
     "output_type": "display_data"
    },
    {
     "data": {
      "text/markdown": [
       "<span style=\"color:#33cc33\">Correct</span>"
      ],
      "text/plain": [
       "Correct"
      ]
     },
     "metadata": {},
     "output_type": "display_data"
    }
   ],
   "source": [
    "\n",
    "def percentage_liked(ratings):\n",
    "    list_liked = [i>=4 for i in ratings]\n",
    "    # TODO: Complete the function\n",
    "    percentage_liked = sum(list_liked) / len(list_liked)\n",
    "    return percentage_liked\n",
    "\n",
    "# Do not change: should return 0.5\n",
    "percentage_liked([1, 2, 3, 4, 5, 4, 5, 1])\n",
    "\n",
    "# Do not change: Check your answer\n",
    "q4.check()"
   ]
  },
  {
   "cell_type": "code",
   "execution_count": 13,
   "id": "371a12a7",
   "metadata": {
    "execution": {
     "iopub.execute_input": "2022-10-19T17:28:26.580373Z",
     "iopub.status.busy": "2022-10-19T17:28:26.579676Z",
     "iopub.status.idle": "2022-10-19T17:28:26.588813Z",
     "shell.execute_reply": "2022-10-19T17:28:26.587629Z"
    },
    "papermill": {
     "duration": 0.021368,
     "end_time": "2022-10-19T17:28:26.591283",
     "exception": false,
     "start_time": "2022-10-19T17:28:26.569915",
     "status": "completed"
    },
    "tags": []
   },
   "outputs": [
    {
     "data": {
      "application/javascript": [
       "parent.postMessage({\"jupyterEvent\": \"custom.exercise_interaction\", \"data\": {\"interactionType\": 2, \"questionType\": 2, \"questionId\": \"4_PercentageLiked\", \"learnToolsVersion\": \"0.3.4\", \"valueTowardsCompletion\": 0.0, \"failureMessage\": \"\", \"exceptionClass\": \"\", \"trace\": \"\", \"outcomeType\": 4}}, \"*\")"
      ],
      "text/plain": [
       "<IPython.core.display.Javascript object>"
      ]
     },
     "metadata": {},
     "output_type": "display_data"
    },
    {
     "data": {
      "text/markdown": [
       "<span style=\"color:#3366cc\">Hint:</span> Remember that when we add booleans, it returns the total number of entries in the sum that are `True`."
      ],
      "text/plain": [
       "Hint: Remember that when we add booleans, it returns the total number of entries in the sum that are `True`."
      ]
     },
     "metadata": {},
     "output_type": "display_data"
    }
   ],
   "source": [
    "# Uncomment to see a hint\n",
    "q4.hint()\n",
    "\n",
    "# Uncomment to see the solution\n",
    "#q4.solution()"
   ]
  },
  {
   "cell_type": "markdown",
   "id": "8790f7d0",
   "metadata": {
    "papermill": {
     "duration": 0.007608,
     "end_time": "2022-10-19T17:28:26.607050",
     "exception": false,
     "start_time": "2022-10-19T17:28:26.599442",
     "status": "completed"
    },
    "tags": []
   },
   "source": [
    "# 🌶️ Question 5\n",
    " \n",
    "Say you're doing analytics for a website.  You need to write a function that returns the percentage growth in the total number of users relative to a specified number of years ago.\n",
    "\n",
    "Your function `percentage_growth()` should take two arguments as input:\n",
    "- `num_users` = Python list with the total number of users each year.  So `num_users[0]` is the total number of users in the first year, `num_users[1]` is the total number of users in the second year, and so on.  The final entry in the list gives the total number of users in the most recently completed year.\n",
    "- `yrs_ago` = number of years to go back in time when calculating the growth percentage\n",
    "\n",
    "For instance, say `num_users = [920344, 1043553, 1204334, 1458996, 1503323, 1593432, 1623463, 1843064, 1930992, 2001078]`.\n",
    "- if `yrs_ago = 1`, we want the function to return a value of about `0.036`. This corresponds to a percentage growth of approximately 3.6%, calculated as (2001078 - 1930992)/1930992.\n",
    "- if `years_ago = 7`, we would want to return approximately `0.66`.  This corresponds to a percentage growth of approximately 66%, calculated as (2001078 - 1204334)/1204334.\n",
    "\n",
    "Your coworker sent you a draft of a function, but it doesn't seem to be doing the correct calculation.  Can you figure out what has gone wrong and make the needed changes?"
   ]
  },
  {
   "cell_type": "code",
   "execution_count": 14,
   "id": "1638b820",
   "metadata": {
    "execution": {
     "iopub.execute_input": "2022-10-19T17:28:26.627408Z",
     "iopub.status.busy": "2022-10-19T17:28:26.626730Z",
     "iopub.status.idle": "2022-10-19T17:28:26.639975Z",
     "shell.execute_reply": "2022-10-19T17:28:26.638232Z"
    },
    "papermill": {
     "duration": 0.027105,
     "end_time": "2022-10-19T17:28:26.642875",
     "exception": false,
     "start_time": "2022-10-19T17:28:26.615770",
     "status": "completed"
    },
    "tags": []
   },
   "outputs": [
    {
     "name": "stdout",
     "output_type": "stream",
     "text": [
      "0.03629533421163837\n",
      "0.6615639847417742\n"
     ]
    },
    {
     "data": {
      "application/javascript": [
       "parent.postMessage({\"jupyterEvent\": \"custom.exercise_interaction\", \"data\": {\"outcomeType\": 1, \"valueTowardsCompletion\": 0.2, \"interactionType\": 1, \"questionType\": 2, \"questionId\": \"5_WebsiteAnalytics\", \"learnToolsVersion\": \"0.3.4\", \"failureMessage\": \"\", \"exceptionClass\": \"\", \"trace\": \"\"}}, \"*\")"
      ],
      "text/plain": [
       "<IPython.core.display.Javascript object>"
      ]
     },
     "metadata": {},
     "output_type": "display_data"
    },
    {
     "data": {
      "text/markdown": [
       "<span style=\"color:#33cc33\">Correct</span>"
      ],
      "text/plain": [
       "Correct"
      ]
     },
     "metadata": {},
     "output_type": "display_data"
    }
   ],
   "source": [
    "# TODO: Edit the function\n",
    "def percentage_growth(num_users, yrs_ago):\n",
    "    growth = (num_users[len(num_users)-1] - num_users[len(num_users)-yrs_ago-1])/num_users[len(num_users)-yrs_ago-1]\n",
    "    return growth\n",
    "\n",
    "# Do not change: Variable for calculating some test examples\n",
    "num_users_test = [920344, 1043553, 1204334, 1458996, 1503323, 1593432, 1623463, 1843064, 1930992, 2001078]\n",
    "\n",
    "# Do not change: Should return .036\n",
    "print(percentage_growth(num_users_test, 1))\n",
    "\n",
    "# Do not change: Should return 0.66\n",
    "print(percentage_growth(num_users_test, 7))\n",
    "\n",
    "# Do not change: Check your answer\n",
    "q5.check()"
   ]
  },
  {
   "cell_type": "code",
   "execution_count": 15,
   "id": "b22ef25f",
   "metadata": {
    "execution": {
     "iopub.execute_input": "2022-10-19T17:28:26.661271Z",
     "iopub.status.busy": "2022-10-19T17:28:26.660747Z",
     "iopub.status.idle": "2022-10-19T17:28:26.670813Z",
     "shell.execute_reply": "2022-10-19T17:28:26.669740Z"
    },
    "papermill": {
     "duration": 0.02162,
     "end_time": "2022-10-19T17:28:26.672974",
     "exception": false,
     "start_time": "2022-10-19T17:28:26.651354",
     "status": "completed"
    },
    "tags": []
   },
   "outputs": [
    {
     "data": {
      "application/javascript": [
       "parent.postMessage({\"jupyterEvent\": \"custom.exercise_interaction\", \"data\": {\"interactionType\": 2, \"questionType\": 2, \"questionId\": \"5_WebsiteAnalytics\", \"learnToolsVersion\": \"0.3.4\", \"valueTowardsCompletion\": 0.0, \"failureMessage\": \"\", \"exceptionClass\": \"\", \"trace\": \"\", \"outcomeType\": 4}}, \"*\")"
      ],
      "text/plain": [
       "<IPython.core.display.Javascript object>"
      ]
     },
     "metadata": {},
     "output_type": "display_data"
    },
    {
     "data": {
      "text/markdown": [
       "<span style=\"color:#3366cc\">Hint:</span> It's already correct that you need to subtract two numbers from the list, before dividing by an item in the list. You only need to modify the positions for the items that are pulled from the list. \n",
       "\n",
       "In order to pull the final entry in the `num_users` list, you would need to use `num_users[len(num_users)-1]`.  This corresponds to the number of users in the most recently completed year.  \n",
       "\n",
       "Then, to get the number of users from one year prior, you should use `num_users[len(num_users)-2]`.  \n",
       "\n",
       "To get the number of users from `yrs_ago` years ago, use `num_users[len(num_users)-yrs_ago-1]`."
      ],
      "text/plain": [
       "Hint: It's already correct that you need to subtract two numbers from the list, before dividing by an item in the list. You only need to modify the positions for the items that are pulled from the list. \n",
       "\n",
       "In order to pull the final entry in the `num_users` list, you would need to use `num_users[len(num_users)-1]`.  This corresponds to the number of users in the most recently completed year.  \n",
       "\n",
       "Then, to get the number of users from one year prior, you should use `num_users[len(num_users)-2]`.  \n",
       "\n",
       "To get the number of users from `yrs_ago` years ago, use `num_users[len(num_users)-yrs_ago-1]`."
      ]
     },
     "metadata": {},
     "output_type": "display_data"
    }
   ],
   "source": [
    "# Uncomment to see a hint\n",
    "q5.hint()\n",
    "\n",
    "# Uncomment to see the solution\n",
    "#q5.solution()"
   ]
  },
  {
   "cell_type": "markdown",
   "id": "50198b50",
   "metadata": {
    "papermill": {
     "duration": 0.008624,
     "end_time": "2022-10-19T17:28:26.690494",
     "exception": false,
     "start_time": "2022-10-19T17:28:26.681870",
     "status": "completed"
    },
    "tags": []
   },
   "source": [
    "# Congratulations!\n",
    "\n",
    "Congratulations for finishing the Intro to Programming course!  You should be proud of your very first steps with learning programming.  As next steps, we recommend taking:\n",
    "- the **[Python course](http://www.kaggle.com/learn/python)**, and \n",
    "- the **[Intro to Machine Learning course](https://www.kaggle.com/learn/intro-to-machine-learning)**."
   ]
  },
  {
   "cell_type": "markdown",
   "id": "b0678c9f",
   "metadata": {
    "papermill": {
     "duration": 0.009808,
     "end_time": "2022-10-19T17:28:26.708756",
     "exception": false,
     "start_time": "2022-10-19T17:28:26.698948",
     "status": "completed"
    },
    "tags": []
   },
   "source": [
    "---\n",
    "\n",
    "\n",
    "\n",
    "\n",
    "*Have questions or comments? Visit the [course discussion forum](https://www.kaggle.com/learn/intro-to-programming/discussion) to chat with other learners.*"
   ]
  }
 ],
 "metadata": {
  "kernelspec": {
   "display_name": "Python 3",
   "language": "python",
   "name": "python3"
  },
  "language_info": {
   "codemirror_mode": {
    "name": "ipython",
    "version": 3
   },
   "file_extension": ".py",
   "mimetype": "text/x-python",
   "name": "python",
   "nbconvert_exporter": "python",
   "pygments_lexer": "ipython3",
   "version": "3.7.12"
  },
  "papermill": {
   "default_parameters": {},
   "duration": 11.673315,
   "end_time": "2022-10-19T17:28:27.439848",
   "environment_variables": {},
   "exception": null,
   "input_path": "__notebook__.ipynb",
   "output_path": "__notebook__.ipynb",
   "parameters": {},
   "start_time": "2022-10-19T17:28:15.766533",
   "version": "2.3.4"
  }
 },
 "nbformat": 4,
 "nbformat_minor": 5
}
