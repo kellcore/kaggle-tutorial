{
 "cells": [
  {
   "cell_type": "markdown",
   "id": "be6422b2",
   "metadata": {
    "papermill": {
     "duration": 0.006746,
     "end_time": "2022-10-19T19:51:15.816638",
     "exception": false,
     "start_time": "2022-10-19T19:51:15.809892",
     "status": "completed"
    },
    "tags": []
   },
   "source": [
    "**This notebook is an exercise in the [Python](https://www.kaggle.com/learn/python) course.  You can reference the tutorial at [this link](https://www.kaggle.com/colinmorris/functions-and-getting-help).**\n",
    "\n",
    "---\n"
   ]
  },
  {
   "cell_type": "markdown",
   "id": "27b0fc10",
   "metadata": {
    "papermill": {
     "duration": 0.005079,
     "end_time": "2022-10-19T19:51:15.827166",
     "exception": false,
     "start_time": "2022-10-19T19:51:15.822087",
     "status": "completed"
    },
    "tags": []
   },
   "source": [
    "Functions are powerful. Try writing some yourself.\n",
    "\n",
    "As before, don't forget to run the setup code below before jumping into question 1."
   ]
  },
  {
   "cell_type": "code",
   "execution_count": 1,
   "id": "6ef79d81",
   "metadata": {
    "_kg_hide-input": true,
    "_kg_hide-output": true,
    "execution": {
     "iopub.execute_input": "2022-10-19T19:51:15.839203Z",
     "iopub.status.busy": "2022-10-19T19:51:15.838588Z",
     "iopub.status.idle": "2022-10-19T19:51:15.892838Z",
     "shell.execute_reply": "2022-10-19T19:51:15.891550Z"
    },
    "papermill": {
     "duration": 0.063436,
     "end_time": "2022-10-19T19:51:15.895501",
     "exception": false,
     "start_time": "2022-10-19T19:51:15.832065",
     "status": "completed"
    },
    "tags": []
   },
   "outputs": [
    {
     "name": "stdout",
     "output_type": "stream",
     "text": [
      "Setup complete.\n"
     ]
    }
   ],
   "source": [
    "# SETUP. You don't need to worry for now about what this code does or how it works.\n",
    "from learntools.core import binder; binder.bind(globals())\n",
    "from learntools.python.ex2 import *\n",
    "print('Setup complete.')"
   ]
  },
  {
   "cell_type": "markdown",
   "id": "89c6e15b",
   "metadata": {
    "papermill": {
     "duration": 0.004831,
     "end_time": "2022-10-19T19:51:15.905287",
     "exception": false,
     "start_time": "2022-10-19T19:51:15.900456",
     "status": "completed"
    },
    "tags": []
   },
   "source": [
    "# 1.\n",
    "\n",
    "Complete the body of the following function according to its docstring.\n",
    "\n",
    "HINT: Python has a built-in function `round`."
   ]
  },
  {
   "cell_type": "code",
   "execution_count": 2,
   "id": "ec731384",
   "metadata": {
    "execution": {
     "iopub.execute_input": "2022-10-19T19:51:15.917539Z",
     "iopub.status.busy": "2022-10-19T19:51:15.917087Z",
     "iopub.status.idle": "2022-10-19T19:51:15.929754Z",
     "shell.execute_reply": "2022-10-19T19:51:15.928662Z"
    },
    "papermill": {
     "duration": 0.021503,
     "end_time": "2022-10-19T19:51:15.932282",
     "exception": false,
     "start_time": "2022-10-19T19:51:15.910779",
     "status": "completed"
    },
    "tags": []
   },
   "outputs": [
    {
     "data": {
      "application/javascript": [
       "parent.postMessage({\"jupyterEvent\": \"custom.exercise_interaction\", \"data\": {\"outcomeType\": 1, \"valueTowardsCompletion\": 0.16666666666666666, \"interactionType\": 1, \"questionType\": 2, \"questionId\": \"1_RoundFunctionProblem\", \"learnToolsVersion\": \"0.3.4\", \"failureMessage\": \"\", \"exceptionClass\": \"\", \"trace\": \"\"}}, \"*\")"
      ],
      "text/plain": [
       "<IPython.core.display.Javascript object>"
      ]
     },
     "metadata": {},
     "output_type": "display_data"
    },
    {
     "data": {
      "text/markdown": [
       "<span style=\"color:#33cc33\">Correct</span>"
      ],
      "text/plain": [
       "Correct"
      ]
     },
     "metadata": {},
     "output_type": "display_data"
    }
   ],
   "source": [
    "def round_to_two_places(num):\n",
    "    \"\"\"Return the given number rounded to two decimal places. \n",
    "    \n",
    "    >>> round_to_two_places(3.14159)\n",
    "    3.14\n",
    "    \"\"\"\n",
    "    return round(num, 2)\n",
    "\n",
    "# Check your answer\n",
    "q1.check()"
   ]
  },
  {
   "cell_type": "code",
   "execution_count": 3,
   "id": "9330756b",
   "metadata": {
    "execution": {
     "iopub.execute_input": "2022-10-19T19:51:15.946224Z",
     "iopub.status.busy": "2022-10-19T19:51:15.945006Z",
     "iopub.status.idle": "2022-10-19T19:51:15.950343Z",
     "shell.execute_reply": "2022-10-19T19:51:15.949175Z"
    },
    "papermill": {
     "duration": 0.014359,
     "end_time": "2022-10-19T19:51:15.952687",
     "exception": false,
     "start_time": "2022-10-19T19:51:15.938328",
     "status": "completed"
    },
    "tags": []
   },
   "outputs": [],
   "source": [
    "# Uncomment the following for a hint\n",
    "#q1.hint()\n",
    "# Or uncomment the following to peek at the solution\n",
    "#q1.solution()"
   ]
  },
  {
   "cell_type": "markdown",
   "id": "47e5b130",
   "metadata": {
    "papermill": {
     "duration": 0.006247,
     "end_time": "2022-10-19T19:51:15.964395",
     "exception": false,
     "start_time": "2022-10-19T19:51:15.958148",
     "status": "completed"
    },
    "tags": []
   },
   "source": [
    "# 2.\n",
    "The help for `round` says that `ndigits` (the second argument) may be negative.\n",
    "What do you think will happen when it is? Try some examples in the following cell."
   ]
  },
  {
   "cell_type": "code",
   "execution_count": 4,
   "id": "6f84b1cd",
   "metadata": {
    "execution": {
     "iopub.execute_input": "2022-10-19T19:51:15.978648Z",
     "iopub.status.busy": "2022-10-19T19:51:15.978055Z",
     "iopub.status.idle": "2022-10-19T19:51:15.984515Z",
     "shell.execute_reply": "2022-10-19T19:51:15.983207Z"
    },
    "papermill": {
     "duration": 0.01629,
     "end_time": "2022-10-19T19:51:15.987106",
     "exception": false,
     "start_time": "2022-10-19T19:51:15.970816",
     "status": "completed"
    },
    "tags": []
   },
   "outputs": [
    {
     "name": "stdout",
     "output_type": "stream",
     "text": [
      "0\n"
     ]
    }
   ],
   "source": [
    "def negative_round(num):\n",
    "    \"\"\"Return the given number rounded to a negative integer\n",
    "    \"\"\"\n",
    "    return round(num, -10)\n",
    "\n",
    "print(negative_round(345678976))"
   ]
  },
  {
   "cell_type": "markdown",
   "id": "1a64d673",
   "metadata": {
    "papermill": {
     "duration": 0.005113,
     "end_time": "2022-10-19T19:51:15.998402",
     "exception": false,
     "start_time": "2022-10-19T19:51:15.993289",
     "status": "completed"
    },
    "tags": []
   },
   "source": [
    "Can you think of a case where this would be useful?  Once you're ready, run the code cell below to see the answer and to receive credit for completing the problem."
   ]
  },
  {
   "cell_type": "code",
   "execution_count": 5,
   "id": "81386b3c",
   "metadata": {
    "execution": {
     "iopub.execute_input": "2022-10-19T19:51:16.010637Z",
     "iopub.status.busy": "2022-10-19T19:51:16.010225Z",
     "iopub.status.idle": "2022-10-19T19:51:16.017465Z",
     "shell.execute_reply": "2022-10-19T19:51:16.016676Z"
    },
    "papermill": {
     "duration": 0.015822,
     "end_time": "2022-10-19T19:51:16.019486",
     "exception": false,
     "start_time": "2022-10-19T19:51:16.003664",
     "status": "completed"
    },
    "tags": []
   },
   "outputs": [
    {
     "data": {
      "application/javascript": [
       "parent.postMessage({\"jupyterEvent\": \"custom.exercise_interaction\", \"data\": {\"interactionType\": 3, \"questionType\": 4, \"questionId\": \"2_RoundNdigitsProblem\", \"learnToolsVersion\": \"0.3.4\", \"valueTowardsCompletion\": 0.0, \"failureMessage\": \"\", \"exceptionClass\": \"\", \"trace\": \"\", \"outcomeType\": 4}}, \"*\")"
      ],
      "text/plain": [
       "<IPython.core.display.Javascript object>"
      ]
     },
     "metadata": {},
     "output_type": "display_data"
    },
    {
     "data": {
      "text/markdown": [
       "<span style=\"color:#33cc99\">Solution:</span> As you've seen, `ndigits=-1` rounds to the nearest 10, `ndigits=-2` rounds to the nearest 100 and so on. Where might this be useful? Suppose we're dealing with large numbers:\n",
       "\n",
       "> The area of Finland is 338,424 km²  \n",
       "> The area of Greenland is 2,166,086 km²\n",
       "\n",
       "We probably don't care whether it's really 338,424, or 338,425, or 338,177. All those digits of accuracy are just distracting. We can chop them off by calling `round()` with `ndigits=-3`:\n",
       "\n",
       "> The area of Finland is 338,000 km²  \n",
       "> The area of Greenland is 2,166,000 km²\n",
       "\n",
       "(We'll talk about how we would get the commas later when we talk about string formatting :))\n"
      ],
      "text/plain": [
       "Solution: As you've seen, `ndigits=-1` rounds to the nearest 10, `ndigits=-2` rounds to the nearest 100 and so on. Where might this be useful? Suppose we're dealing with large numbers:\n",
       "\n",
       "> The area of Finland is 338,424 km²  \n",
       "> The area of Greenland is 2,166,086 km²\n",
       "\n",
       "We probably don't care whether it's really 338,424, or 338,425, or 338,177. All those digits of accuracy are just distracting. We can chop them off by calling `round()` with `ndigits=-3`:\n",
       "\n",
       "> The area of Finland is 338,000 km²  \n",
       "> The area of Greenland is 2,166,000 km²\n",
       "\n",
       "(We'll talk about how we would get the commas later when we talk about string formatting :))"
      ]
     },
     "metadata": {},
     "output_type": "display_data"
    }
   ],
   "source": [
    "# Check your answer (Run this code cell to receive credit!)\n",
    "q2.solution()"
   ]
  },
  {
   "cell_type": "markdown",
   "id": "d28b027c",
   "metadata": {
    "papermill": {
     "duration": 0.005658,
     "end_time": "2022-10-19T19:51:16.030454",
     "exception": false,
     "start_time": "2022-10-19T19:51:16.024796",
     "status": "completed"
    },
    "tags": []
   },
   "source": [
    "# 3.\n",
    "\n",
    "In the previous exercise, the candy-sharing friends Alice, Bob and Carol tried to split candies evenly. For the sake of their friendship, any candies left over would be smashed. For example, if they collectively bring home 91 candies, they'll take 30 each and smash 1.\n",
    "\n",
    "Below is a simple function that will calculate the number of candies to smash for *any* number of total candies.\n",
    "\n",
    "Modify it so that it optionally takes a second argument representing the number of friends the candies are being split between. If no second argument is provided, it should assume 3 friends, as before.\n",
    "\n",
    "Update the docstring to reflect this new behaviour."
   ]
  },
  {
   "cell_type": "code",
   "execution_count": 6,
   "id": "1bae2ebd",
   "metadata": {
    "execution": {
     "iopub.execute_input": "2022-10-19T19:51:16.043997Z",
     "iopub.status.busy": "2022-10-19T19:51:16.043067Z",
     "iopub.status.idle": "2022-10-19T19:51:16.052843Z",
     "shell.execute_reply": "2022-10-19T19:51:16.051616Z"
    },
    "papermill": {
     "duration": 0.01952,
     "end_time": "2022-10-19T19:51:16.055685",
     "exception": false,
     "start_time": "2022-10-19T19:51:16.036165",
     "status": "completed"
    },
    "tags": []
   },
   "outputs": [
    {
     "data": {
      "application/javascript": [
       "parent.postMessage({\"jupyterEvent\": \"custom.exercise_interaction\", \"data\": {\"outcomeType\": 1, \"valueTowardsCompletion\": 0.16666666666666666, \"interactionType\": 1, \"questionType\": 2, \"questionId\": \"3_CandySmashingFunctionProblem\", \"learnToolsVersion\": \"0.3.4\", \"failureMessage\": \"\", \"exceptionClass\": \"\", \"trace\": \"\"}}, \"*\")"
      ],
      "text/plain": [
       "<IPython.core.display.Javascript object>"
      ]
     },
     "metadata": {},
     "output_type": "display_data"
    },
    {
     "data": {
      "text/markdown": [
       "<span style=\"color:#33cc33\">Correct</span>"
      ],
      "text/plain": [
       "Correct"
      ]
     },
     "metadata": {},
     "output_type": "display_data"
    }
   ],
   "source": [
    "def to_smash(total_candies, friends=3):\n",
    "    \"\"\"Return the number of leftover candies that must be smashed after distributing\n",
    "    the given number of candies evenly between friends. If no second argument is provided, assume 3 friends as default.\n",
    "    \n",
    "    >>> to_smash(91)\n",
    "    1\n",
    "    \"\"\"\n",
    "    return total_candies % friends\n",
    "\n",
    "# Check your answer\n",
    "q3.check()"
   ]
  },
  {
   "cell_type": "code",
   "execution_count": 7,
   "id": "54f16e72",
   "metadata": {
    "execution": {
     "iopub.execute_input": "2022-10-19T19:51:16.068810Z",
     "iopub.status.busy": "2022-10-19T19:51:16.068418Z",
     "iopub.status.idle": "2022-10-19T19:51:16.078246Z",
     "shell.execute_reply": "2022-10-19T19:51:16.077132Z"
    },
    "papermill": {
     "duration": 0.019357,
     "end_time": "2022-10-19T19:51:16.080762",
     "exception": false,
     "start_time": "2022-10-19T19:51:16.061405",
     "status": "completed"
    },
    "tags": []
   },
   "outputs": [
    {
     "data": {
      "application/javascript": [
       "parent.postMessage({\"jupyterEvent\": \"custom.exercise_interaction\", \"data\": {\"interactionType\": 2, \"questionType\": 2, \"questionId\": \"3_CandySmashingFunctionProblem\", \"learnToolsVersion\": \"0.3.4\", \"valueTowardsCompletion\": 0.0, \"failureMessage\": \"\", \"exceptionClass\": \"\", \"trace\": \"\", \"outcomeType\": 4}}, \"*\")"
      ],
      "text/plain": [
       "<IPython.core.display.Javascript object>"
      ]
     },
     "metadata": {},
     "output_type": "display_data"
    },
    {
     "data": {
      "text/markdown": [
       "<span style=\"color:#3366cc\">Hint:</span> Refer to the section of the last tutorial notebook where we talked about default arguments"
      ],
      "text/plain": [
       "Hint: Refer to the section of the last tutorial notebook where we talked about default arguments"
      ]
     },
     "metadata": {},
     "output_type": "display_data"
    }
   ],
   "source": [
    "q3.hint()"
   ]
  },
  {
   "cell_type": "code",
   "execution_count": 8,
   "id": "7a4bceb8",
   "metadata": {
    "execution": {
     "iopub.execute_input": "2022-10-19T19:51:16.095903Z",
     "iopub.status.busy": "2022-10-19T19:51:16.095328Z",
     "iopub.status.idle": "2022-10-19T19:51:16.100803Z",
     "shell.execute_reply": "2022-10-19T19:51:16.099500Z"
    },
    "papermill": {
     "duration": 0.014858,
     "end_time": "2022-10-19T19:51:16.103105",
     "exception": false,
     "start_time": "2022-10-19T19:51:16.088247",
     "status": "completed"
    },
    "tags": []
   },
   "outputs": [],
   "source": [
    "#q3.solution()"
   ]
  },
  {
   "cell_type": "markdown",
   "id": "e221fea3",
   "metadata": {
    "papermill": {
     "duration": 0.005777,
     "end_time": "2022-10-19T19:51:16.115478",
     "exception": false,
     "start_time": "2022-10-19T19:51:16.109701",
     "status": "completed"
    },
    "tags": []
   },
   "source": [
    "# 4. (Optional)\n",
    "\n",
    "It may not be fun, but reading and understanding error messages will be an important part of your Python career.\n",
    "\n",
    "Each code cell below contains some commented buggy code. For each cell...\n",
    "\n",
    "1. Read the code and predict what you think will happen when it's run.\n",
    "2. Then uncomment the code and run it to see what happens. (**Tip**: In the kernel editor, you can highlight several lines and press `ctrl`+`/` to toggle commenting.)\n",
    "3. Fix the code (so that it accomplishes its intended purpose without throwing an exception)\n",
    "\n",
    "<!-- TODO: should this be autochecked? Delta is probably pretty small. -->"
   ]
  },
  {
   "cell_type": "code",
   "execution_count": 9,
   "id": "39866dfa",
   "metadata": {
    "execution": {
     "iopub.execute_input": "2022-10-19T19:51:16.129905Z",
     "iopub.status.busy": "2022-10-19T19:51:16.129152Z",
     "iopub.status.idle": "2022-10-19T19:51:16.136195Z",
     "shell.execute_reply": "2022-10-19T19:51:16.135140Z"
    },
    "papermill": {
     "duration": 0.016875,
     "end_time": "2022-10-19T19:51:16.138632",
     "exception": false,
     "start_time": "2022-10-19T19:51:16.121757",
     "status": "completed"
    },
    "tags": []
   },
   "outputs": [
    {
     "data": {
      "text/plain": [
       "10.0"
      ]
     },
     "execution_count": 9,
     "metadata": {},
     "output_type": "execute_result"
    }
   ],
   "source": [
    "round_to_two_places(9.9999)"
   ]
  },
  {
   "cell_type": "code",
   "execution_count": 10,
   "id": "0429eec7",
   "metadata": {
    "execution": {
     "iopub.execute_input": "2022-10-19T19:51:16.152772Z",
     "iopub.status.busy": "2022-10-19T19:51:16.152203Z",
     "iopub.status.idle": "2022-10-19T19:51:16.157920Z",
     "shell.execute_reply": "2022-10-19T19:51:16.156758Z"
    },
    "papermill": {
     "duration": 0.01547,
     "end_time": "2022-10-19T19:51:16.160216",
     "exception": false,
     "start_time": "2022-10-19T19:51:16.144746",
     "status": "completed"
    },
    "tags": []
   },
   "outputs": [],
   "source": [
    "x = -10\n",
    "y = 5\n",
    "# # Which of the two variables above has the smallest absolute value?\n",
    "smallest_abs = min(abs(x), abs(y))"
   ]
  },
  {
   "cell_type": "code",
   "execution_count": 11,
   "id": "5d80834b",
   "metadata": {
    "execution": {
     "iopub.execute_input": "2022-10-19T19:51:16.174848Z",
     "iopub.status.busy": "2022-10-19T19:51:16.174441Z",
     "iopub.status.idle": "2022-10-19T19:51:16.180595Z",
     "shell.execute_reply": "2022-10-19T19:51:16.179509Z"
    },
    "papermill": {
     "duration": 0.01659,
     "end_time": "2022-10-19T19:51:16.183146",
     "exception": false,
     "start_time": "2022-10-19T19:51:16.166556",
     "status": "completed"
    },
    "tags": []
   },
   "outputs": [
    {
     "name": "stdout",
     "output_type": "stream",
     "text": [
      "5\n"
     ]
    }
   ],
   "source": [
    "def f(x):\n",
    "    y = abs(x)\n",
    "    return y\n",
    "\n",
    "print(f(5))"
   ]
  },
  {
   "cell_type": "markdown",
   "id": "71918785",
   "metadata": {
    "papermill": {
     "duration": 0.006104,
     "end_time": "2022-10-19T19:51:16.195372",
     "exception": false,
     "start_time": "2022-10-19T19:51:16.189268",
     "status": "completed"
    },
    "tags": []
   },
   "source": [
    "# Keep Going\n",
    "\n",
    "Nice job with the code. Next up, you'll learn about *conditionals*, which you'll need to **[write interesting programs](https://www.kaggle.com/colinmorris/booleans-and-conditionals)**. "
   ]
  },
  {
   "cell_type": "markdown",
   "id": "69591426",
   "metadata": {
    "papermill": {
     "duration": 0.006389,
     "end_time": "2022-10-19T19:51:16.207880",
     "exception": false,
     "start_time": "2022-10-19T19:51:16.201491",
     "status": "completed"
    },
    "tags": []
   },
   "source": [
    "---\n",
    "\n",
    "\n",
    "\n",
    "\n",
    "*Have questions or comments? Visit the [course discussion forum](https://www.kaggle.com/learn/python/discussion) to chat with other learners.*"
   ]
  }
 ],
 "metadata": {
  "kernelspec": {
   "display_name": "Python 3",
   "language": "python",
   "name": "python3"
  },
  "language_info": {
   "codemirror_mode": {
    "name": "ipython",
    "version": 3
   },
   "file_extension": ".py",
   "mimetype": "text/x-python",
   "name": "python",
   "nbconvert_exporter": "python",
   "pygments_lexer": "ipython3",
   "version": "3.7.12"
  },
  "papermill": {
   "default_parameters": {},
   "duration": 10.065553,
   "end_time": "2022-10-19T19:51:16.936688",
   "environment_variables": {},
   "exception": null,
   "input_path": "__notebook__.ipynb",
   "output_path": "__notebook__.ipynb",
   "parameters": {},
   "start_time": "2022-10-19T19:51:06.871135",
   "version": "2.3.4"
  }
 },
 "nbformat": 4,
 "nbformat_minor": 5
}
