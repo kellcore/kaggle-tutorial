{
 "cells": [
  {
   "cell_type": "markdown",
   "id": "88ca336d",
   "metadata": {
    "papermill": {
     "duration": 0.006487,
     "end_time": "2022-10-19T21:38:13.899775",
     "exception": false,
     "start_time": "2022-10-19T21:38:13.893288",
     "status": "completed"
    },
    "tags": []
   },
   "source": [
    "**This notebook is an exercise in the [Python](https://www.kaggle.com/learn/python) course.  You can reference the tutorial at [this link](https://www.kaggle.com/colinmorris/lists).**\n",
    "\n",
    "---\n"
   ]
  },
  {
   "cell_type": "markdown",
   "id": "1d8e1184",
   "metadata": {
    "papermill": {
     "duration": 0.004512,
     "end_time": "2022-10-19T21:38:13.909521",
     "exception": false,
     "start_time": "2022-10-19T21:38:13.905009",
     "status": "completed"
    },
    "tags": []
   },
   "source": [
    "Things get more interesting with lists. You'll apply your new knowledge to solve the questions below. Remember to run the following cell first."
   ]
  },
  {
   "cell_type": "code",
   "execution_count": 1,
   "id": "d97b254f",
   "metadata": {
    "execution": {
     "iopub.execute_input": "2022-10-19T21:38:13.921711Z",
     "iopub.status.busy": "2022-10-19T21:38:13.920930Z",
     "iopub.status.idle": "2022-10-19T21:38:13.984955Z",
     "shell.execute_reply": "2022-10-19T21:38:13.983770Z"
    },
    "papermill": {
     "duration": 0.073846,
     "end_time": "2022-10-19T21:38:13.988198",
     "exception": false,
     "start_time": "2022-10-19T21:38:13.914352",
     "status": "completed"
    },
    "tags": []
   },
   "outputs": [
    {
     "name": "stdout",
     "output_type": "stream",
     "text": [
      "Setup complete.\n"
     ]
    }
   ],
   "source": [
    "from learntools.core import binder; binder.bind(globals())\n",
    "from learntools.python.ex4 import *\n",
    "print('Setup complete.')"
   ]
  },
  {
   "cell_type": "markdown",
   "id": "99283674",
   "metadata": {
    "papermill": {
     "duration": 0.006061,
     "end_time": "2022-10-19T21:38:13.999554",
     "exception": false,
     "start_time": "2022-10-19T21:38:13.993493",
     "status": "completed"
    },
    "tags": []
   },
   "source": [
    "# 1.\n",
    "\n",
    "Complete the function below according to its docstring."
   ]
  },
  {
   "cell_type": "code",
   "execution_count": 2,
   "id": "ec3145b0",
   "metadata": {
    "execution": {
     "iopub.execute_input": "2022-10-19T21:38:14.012567Z",
     "iopub.status.busy": "2022-10-19T21:38:14.012141Z",
     "iopub.status.idle": "2022-10-19T21:38:14.025250Z",
     "shell.execute_reply": "2022-10-19T21:38:14.024042Z"
    },
    "papermill": {
     "duration": 0.022617,
     "end_time": "2022-10-19T21:38:14.027601",
     "exception": false,
     "start_time": "2022-10-19T21:38:14.004984",
     "status": "completed"
    },
    "tags": []
   },
   "outputs": [
    {
     "data": {
      "application/javascript": [
       "parent.postMessage({\"jupyterEvent\": \"custom.exercise_interaction\", \"data\": {\"outcomeType\": 1, \"valueTowardsCompletion\": 0.2, \"interactionType\": 1, \"questionType\": 2, \"questionId\": \"1_SelectSecondItem\", \"learnToolsVersion\": \"0.3.4\", \"failureMessage\": \"\", \"exceptionClass\": \"\", \"trace\": \"\"}}, \"*\")"
      ],
      "text/plain": [
       "<IPython.core.display.Javascript object>"
      ]
     },
     "metadata": {},
     "output_type": "display_data"
    },
    {
     "data": {
      "text/markdown": [
       "<span style=\"color:#33cc33\">Correct</span>"
      ],
      "text/plain": [
       "Correct"
      ]
     },
     "metadata": {},
     "output_type": "display_data"
    }
   ],
   "source": [
    "def select_second(L):\n",
    "    \"\"\"Return the second element of the given list. If the list has no second\n",
    "    element, return None.\n",
    "    \"\"\"\n",
    "    return L[1] if len(L) > 2 else None\n",
    "\n",
    "# Check your answer\n",
    "q1.check()"
   ]
  },
  {
   "cell_type": "code",
   "execution_count": 3,
   "id": "f4f2a179",
   "metadata": {
    "execution": {
     "iopub.execute_input": "2022-10-19T21:38:14.040500Z",
     "iopub.status.busy": "2022-10-19T21:38:14.039677Z",
     "iopub.status.idle": "2022-10-19T21:38:14.044992Z",
     "shell.execute_reply": "2022-10-19T21:38:14.043789Z"
    },
    "papermill": {
     "duration": 0.014538,
     "end_time": "2022-10-19T21:38:14.047481",
     "exception": false,
     "start_time": "2022-10-19T21:38:14.032943",
     "status": "completed"
    },
    "tags": []
   },
   "outputs": [],
   "source": [
    "#q1.hint()\n",
    "#q1.solution()"
   ]
  },
  {
   "cell_type": "markdown",
   "id": "aa326acf",
   "metadata": {
    "papermill": {
     "duration": 0.004964,
     "end_time": "2022-10-19T21:38:14.057679",
     "exception": false,
     "start_time": "2022-10-19T21:38:14.052715",
     "status": "completed"
    },
    "tags": []
   },
   "source": [
    "# 2.\n",
    "\n",
    "You are analyzing sports teams.  Members of each team are stored in a list. The Coach is the first name in the list, the captain is the second name in the list, and other players are listed after that. \n",
    "These lists are stored in another list, which starts with the best team and proceeds through the list to the worst team last.  Complete the function below to select the **captain** of the worst team."
   ]
  },
  {
   "cell_type": "code",
   "execution_count": 4,
   "id": "5ea6f197",
   "metadata": {
    "execution": {
     "iopub.execute_input": "2022-10-19T21:38:14.070404Z",
     "iopub.status.busy": "2022-10-19T21:38:14.069916Z",
     "iopub.status.idle": "2022-10-19T21:38:14.080205Z",
     "shell.execute_reply": "2022-10-19T21:38:14.079163Z"
    },
    "papermill": {
     "duration": 0.01889,
     "end_time": "2022-10-19T21:38:14.082297",
     "exception": false,
     "start_time": "2022-10-19T21:38:14.063407",
     "status": "completed"
    },
    "tags": []
   },
   "outputs": [
    {
     "data": {
      "application/javascript": [
       "parent.postMessage({\"jupyterEvent\": \"custom.exercise_interaction\", \"data\": {\"outcomeType\": 1, \"valueTowardsCompletion\": 0.2, \"interactionType\": 1, \"questionType\": 2, \"questionId\": \"2_LosingTeamCaptain\", \"learnToolsVersion\": \"0.3.4\", \"failureMessage\": \"\", \"exceptionClass\": \"\", \"trace\": \"\"}}, \"*\")"
      ],
      "text/plain": [
       "<IPython.core.display.Javascript object>"
      ]
     },
     "metadata": {},
     "output_type": "display_data"
    },
    {
     "data": {
      "text/markdown": [
       "<span style=\"color:#33cc33\">Correct</span>"
      ],
      "text/plain": [
       "Correct"
      ]
     },
     "metadata": {},
     "output_type": "display_data"
    }
   ],
   "source": [
    "def losing_team_captain(teams):\n",
    "    \"\"\"Given a list of teams, where each team is a list of names, return the 2nd player (captain)\n",
    "    from the last listed team\n",
    "    \"\"\"\n",
    "    return teams[-1][1]\n",
    "\n",
    "# Check your answer\n",
    "q2.check()"
   ]
  },
  {
   "cell_type": "code",
   "execution_count": 5,
   "id": "c7068c6c",
   "metadata": {
    "execution": {
     "iopub.execute_input": "2022-10-19T21:38:14.095823Z",
     "iopub.status.busy": "2022-10-19T21:38:14.095063Z",
     "iopub.status.idle": "2022-10-19T21:38:14.103385Z",
     "shell.execute_reply": "2022-10-19T21:38:14.102421Z"
    },
    "papermill": {
     "duration": 0.017815,
     "end_time": "2022-10-19T21:38:14.105581",
     "exception": false,
     "start_time": "2022-10-19T21:38:14.087766",
     "status": "completed"
    },
    "tags": []
   },
   "outputs": [
    {
     "data": {
      "application/javascript": [
       "parent.postMessage({\"jupyterEvent\": \"custom.exercise_interaction\", \"data\": {\"interactionType\": 2, \"questionType\": 2, \"questionId\": \"2_LosingTeamCaptain\", \"learnToolsVersion\": \"0.3.4\", \"valueTowardsCompletion\": 0.0, \"failureMessage\": \"\", \"exceptionClass\": \"\", \"trace\": \"\", \"outcomeType\": 4}}, \"*\")"
      ],
      "text/plain": [
       "<IPython.core.display.Javascript object>"
      ]
     },
     "metadata": {},
     "output_type": "display_data"
    },
    {
     "data": {
      "text/markdown": [
       "<span style=\"color:#3366cc\">Hint:</span> The last item in a list `L` can be selected with `L[-1]`. The first item in the first sublist would be selected as `L[0][0]`"
      ],
      "text/plain": [
       "Hint: The last item in a list `L` can be selected with `L[-1]`. The first item in the first sublist would be selected as `L[0][0]`"
      ]
     },
     "metadata": {},
     "output_type": "display_data"
    }
   ],
   "source": [
    "q2.hint()\n",
    "#q2.solution()"
   ]
  },
  {
   "cell_type": "markdown",
   "id": "2a643c6b",
   "metadata": {
    "papermill": {
     "duration": 0.005567,
     "end_time": "2022-10-19T21:38:14.117050",
     "exception": false,
     "start_time": "2022-10-19T21:38:14.111483",
     "status": "completed"
    },
    "tags": []
   },
   "source": [
    "# 3.\n",
    "\n",
    "The next iteration of Mario Kart will feature an extra-infuriating new item, the *Purple Shell*. When used, it warps the last place racer into first place and the first place racer into last place. Complete the function below to implement the Purple Shell's effect."
   ]
  },
  {
   "cell_type": "code",
   "execution_count": 6,
   "id": "8516f2b6",
   "metadata": {
    "execution": {
     "iopub.execute_input": "2022-10-19T21:38:14.131252Z",
     "iopub.status.busy": "2022-10-19T21:38:14.130436Z",
     "iopub.status.idle": "2022-10-19T21:38:14.140164Z",
     "shell.execute_reply": "2022-10-19T21:38:14.139172Z"
    },
    "papermill": {
     "duration": 0.019513,
     "end_time": "2022-10-19T21:38:14.142401",
     "exception": false,
     "start_time": "2022-10-19T21:38:14.122888",
     "status": "completed"
    },
    "tags": []
   },
   "outputs": [
    {
     "data": {
      "application/javascript": [
       "parent.postMessage({\"jupyterEvent\": \"custom.exercise_interaction\", \"data\": {\"outcomeType\": 1, \"valueTowardsCompletion\": 0.2, \"interactionType\": 1, \"questionType\": 2, \"questionId\": \"3_PurpleShell\", \"learnToolsVersion\": \"0.3.4\", \"failureMessage\": \"\", \"exceptionClass\": \"\", \"trace\": \"\"}}, \"*\")"
      ],
      "text/plain": [
       "<IPython.core.display.Javascript object>"
      ]
     },
     "metadata": {},
     "output_type": "display_data"
    },
    {
     "data": {
      "text/markdown": [
       "<span style=\"color:#33cc33\">Correct</span>"
      ],
      "text/plain": [
       "Correct"
      ]
     },
     "metadata": {},
     "output_type": "display_data"
    }
   ],
   "source": [
    "def purple_shell(racers):\n",
    "    \"\"\"Given a list of racers, set the first place racer (at the front of the list) to last\n",
    "    place and vice versa.\n",
    "    \n",
    "    >>> r = [\"Mario\", \"Bowser\", \"Luigi\"]\n",
    "    >>> purple_shell(r)\n",
    "    >>> r\n",
    "    [\"Luigi\", \"Bowser\", \"Mario\"]\n",
    "    \"\"\"\n",
    "    temp = racers[0]\n",
    "    racers[0] = racers[-1]\n",
    "    racers[-1] = temp\n",
    "    \n",
    "\n",
    "# Check your answer\n",
    "q3.check()"
   ]
  },
  {
   "cell_type": "code",
   "execution_count": 7,
   "id": "d35c767f",
   "metadata": {
    "execution": {
     "iopub.execute_input": "2022-10-19T21:38:14.156743Z",
     "iopub.status.busy": "2022-10-19T21:38:14.156031Z",
     "iopub.status.idle": "2022-10-19T21:38:14.164479Z",
     "shell.execute_reply": "2022-10-19T21:38:14.163213Z"
    },
    "papermill": {
     "duration": 0.018704,
     "end_time": "2022-10-19T21:38:14.166999",
     "exception": false,
     "start_time": "2022-10-19T21:38:14.148295",
     "status": "completed"
    },
    "tags": []
   },
   "outputs": [
    {
     "data": {
      "application/javascript": [
       "parent.postMessage({\"jupyterEvent\": \"custom.exercise_interaction\", \"data\": {\"interactionType\": 2, \"questionType\": 2, \"questionId\": \"3_PurpleShell\", \"learnToolsVersion\": \"0.3.4\", \"valueTowardsCompletion\": 0.0, \"failureMessage\": \"\", \"exceptionClass\": \"\", \"trace\": \"\", \"outcomeType\": 4}}, \"*\")"
      ],
      "text/plain": [
       "<IPython.core.display.Javascript object>"
      ]
     },
     "metadata": {},
     "output_type": "display_data"
    },
    {
     "data": {
      "text/markdown": [
       "<span style=\"color:#3366cc\">Hint:</span> Your function should change the list it receives, but not return anything\n",
       "\n",
       "To swap the list elements, think back to the code you used in the very first exercise to swap two variables."
      ],
      "text/plain": [
       "Hint: Your function should change the list it receives, but not return anything\n",
       "\n",
       "To swap the list elements, think back to the code you used in the very first exercise to swap two variables."
      ]
     },
     "metadata": {},
     "output_type": "display_data"
    }
   ],
   "source": [
    "q3.hint()\n",
    "#q3.solution()"
   ]
  },
  {
   "cell_type": "markdown",
   "id": "65dc7192",
   "metadata": {
    "papermill": {
     "duration": 0.007403,
     "end_time": "2022-10-19T21:38:14.180545",
     "exception": false,
     "start_time": "2022-10-19T21:38:14.173142",
     "status": "completed"
    },
    "tags": []
   },
   "source": [
    "# 4.\n",
    "\n",
    "What are the lengths of the following lists? Fill in the variable `lengths` with your predictions. (Try to make a prediction for each list *without* just calling `len()` on it.)"
   ]
  },
  {
   "cell_type": "code",
   "execution_count": 8,
   "id": "4aa5f73b",
   "metadata": {
    "execution": {
     "iopub.execute_input": "2022-10-19T21:38:14.194628Z",
     "iopub.status.busy": "2022-10-19T21:38:14.194228Z",
     "iopub.status.idle": "2022-10-19T21:38:14.206497Z",
     "shell.execute_reply": "2022-10-19T21:38:14.205040Z"
    },
    "papermill": {
     "duration": 0.02243,
     "end_time": "2022-10-19T21:38:14.209097",
     "exception": false,
     "start_time": "2022-10-19T21:38:14.186667",
     "status": "completed"
    },
    "tags": []
   },
   "outputs": [
    {
     "data": {
      "application/javascript": [
       "parent.postMessage({\"jupyterEvent\": \"custom.exercise_interaction\", \"data\": {\"outcomeType\": 1, \"valueTowardsCompletion\": 0.2, \"interactionType\": 1, \"questionType\": 1, \"questionId\": \"4_UnderstandLen\", \"learnToolsVersion\": \"0.3.4\", \"failureMessage\": \"\", \"exceptionClass\": \"\", \"trace\": \"\"}}, \"*\")"
      ],
      "text/plain": [
       "<IPython.core.display.Javascript object>"
      ]
     },
     "metadata": {},
     "output_type": "display_data"
    },
    {
     "data": {
      "text/markdown": [
       "<span style=\"color:#33cc33\">Correct:</span> \n",
       "\n",
       "\n",
       "- a: There are three items in this list. Nothing tricky yet.\n",
       "- b: The list `[2, 3]` counts as a single item. It has one item before it. So we have 2 items in the list\n",
       "- c: The empty list has 0 items\n",
       "- d: The expression is the same as the list `[2, 3]`, which has length 2."
      ],
      "text/plain": [
       "Correct: \n",
       "\n",
       "\n",
       "- a: There are three items in this list. Nothing tricky yet.\n",
       "- b: The list `[2, 3]` counts as a single item. It has one item before it. So we have 2 items in the list\n",
       "- c: The empty list has 0 items\n",
       "- d: The expression is the same as the list `[2, 3]`, which has length 2."
      ]
     },
     "metadata": {},
     "output_type": "display_data"
    }
   ],
   "source": [
    "a = [1, 2, 3]\n",
    "b = [1, [2, 3]]\n",
    "c = []\n",
    "d = [1, 2, 3][1:]\n",
    "\n",
    "# Put your predictions in the list below. Lengths should contain 4 numbers, the\n",
    "# first being the length of a, the second being the length of b and so on.\n",
    "lengths = [3, 2, 0, 2]\n",
    "\n",
    "# Check your answer\n",
    "q4.check()"
   ]
  },
  {
   "cell_type": "code",
   "execution_count": 9,
   "id": "608798c7",
   "metadata": {
    "execution": {
     "iopub.execute_input": "2022-10-19T21:38:14.224524Z",
     "iopub.status.busy": "2022-10-19T21:38:14.223457Z",
     "iopub.status.idle": "2022-10-19T21:38:14.228636Z",
     "shell.execute_reply": "2022-10-19T21:38:14.227513Z"
    },
    "papermill": {
     "duration": 0.016071,
     "end_time": "2022-10-19T21:38:14.231559",
     "exception": false,
     "start_time": "2022-10-19T21:38:14.215488",
     "status": "completed"
    },
    "tags": []
   },
   "outputs": [],
   "source": [
    "# line below provides some explanation\n",
    "#q4.solution()"
   ]
  },
  {
   "cell_type": "markdown",
   "id": "10d7c5ae",
   "metadata": {
    "papermill": {
     "duration": 0.006353,
     "end_time": "2022-10-19T21:38:14.244726",
     "exception": false,
     "start_time": "2022-10-19T21:38:14.238373",
     "status": "completed"
    },
    "tags": []
   },
   "source": [
    "# 5. <span title=\"A bit spicy\" style=\"color: darkgreen \">🌶️</span>\n",
    "\n",
    "We're using lists to record people who attended our party and what order they arrived in. For example, the following list represents a party with 7 guests, in which Adela showed up first and Ford was the last to arrive:\n",
    "\n",
    "    party_attendees = ['Adela', 'Fleda', 'Owen', 'May', 'Mona', 'Gilbert', 'Ford']\n",
    "\n",
    "A guest is considered 'fashionably late' if they arrived after at least half of the party's guests. However, they must not be the very last guest (that's taking it too far). In the above example, Mona and Gilbert are the only guests who were fashionably late.\n",
    "\n",
    "Complete the function below which takes a list of party attendees as well as a person, and tells us whether that person is fashionably late."
   ]
  },
  {
   "cell_type": "code",
   "execution_count": 10,
   "id": "820e1c8f",
   "metadata": {
    "execution": {
     "iopub.execute_input": "2022-10-19T21:38:14.260415Z",
     "iopub.status.busy": "2022-10-19T21:38:14.259502Z",
     "iopub.status.idle": "2022-10-19T21:38:14.270826Z",
     "shell.execute_reply": "2022-10-19T21:38:14.269515Z"
    },
    "papermill": {
     "duration": 0.021837,
     "end_time": "2022-10-19T21:38:14.273143",
     "exception": false,
     "start_time": "2022-10-19T21:38:14.251306",
     "status": "completed"
    },
    "tags": []
   },
   "outputs": [
    {
     "data": {
      "application/javascript": [
       "parent.postMessage({\"jupyterEvent\": \"custom.exercise_interaction\", \"data\": {\"outcomeType\": 1, \"valueTowardsCompletion\": 0.2, \"interactionType\": 1, \"questionType\": 2, \"questionId\": \"5_FashionablyLate\", \"learnToolsVersion\": \"0.3.4\", \"failureMessage\": \"\", \"exceptionClass\": \"\", \"trace\": \"\"}}, \"*\")"
      ],
      "text/plain": [
       "<IPython.core.display.Javascript object>"
      ]
     },
     "metadata": {},
     "output_type": "display_data"
    },
    {
     "data": {
      "text/markdown": [
       "<span style=\"color:#33cc33\">Correct</span>"
      ],
      "text/plain": [
       "Correct"
      ]
     },
     "metadata": {},
     "output_type": "display_data"
    }
   ],
   "source": [
    "def fashionably_late(arrivals, name):\n",
    "    \"\"\"Given an ordered list of arrivals to the party and a name, return whether the guest with that\n",
    "    name was fashionably late.\n",
    "    \"\"\"\n",
    "    order = arrivals.index(name)\n",
    "    return order >= len(arrivals) / 2 and order != len(arrivals) - 1\n",
    "\n",
    "# Check your answer\n",
    "q5.check()"
   ]
  },
  {
   "cell_type": "code",
   "execution_count": 11,
   "id": "11ad7e7b",
   "metadata": {
    "execution": {
     "iopub.execute_input": "2022-10-19T21:38:14.288379Z",
     "iopub.status.busy": "2022-10-19T21:38:14.287991Z",
     "iopub.status.idle": "2022-10-19T21:38:14.297877Z",
     "shell.execute_reply": "2022-10-19T21:38:14.296433Z"
    },
    "papermill": {
     "duration": 0.020534,
     "end_time": "2022-10-19T21:38:14.300439",
     "exception": false,
     "start_time": "2022-10-19T21:38:14.279905",
     "status": "completed"
    },
    "tags": []
   },
   "outputs": [
    {
     "data": {
      "application/javascript": [
       "parent.postMessage({\"jupyterEvent\": \"custom.exercise_interaction\", \"data\": {\"interactionType\": 2, \"questionType\": 2, \"questionId\": \"5_FashionablyLate\", \"learnToolsVersion\": \"0.3.4\", \"valueTowardsCompletion\": 0.0, \"failureMessage\": \"\", \"exceptionClass\": \"\", \"trace\": \"\", \"outcomeType\": 4}}, \"*\")"
      ],
      "text/plain": [
       "<IPython.core.display.Javascript object>"
      ]
     },
     "metadata": {},
     "output_type": "display_data"
    },
    {
     "data": {
      "text/markdown": [
       "<span style=\"color:#3366cc\">Hint:</span> Use the index method to find when the person arrived. Check whether that is a fashionably late spot given the list length (`len`). Think about 0-indexing"
      ],
      "text/plain": [
       "Hint: Use the index method to find when the person arrived. Check whether that is a fashionably late spot given the list length (`len`). Think about 0-indexing"
      ]
     },
     "metadata": {},
     "output_type": "display_data"
    }
   ],
   "source": [
    "q5.hint()\n",
    "#q5.solution()"
   ]
  },
  {
   "cell_type": "markdown",
   "id": "ba527649",
   "metadata": {
    "papermill": {
     "duration": 0.006701,
     "end_time": "2022-10-19T21:38:14.314125",
     "exception": false,
     "start_time": "2022-10-19T21:38:14.307424",
     "status": "completed"
    },
    "tags": []
   },
   "source": [
    "# Keep Going\n",
    "\n",
    "That's it for lists and tuples! Now you have the baseline knowledge to **[learn about loops](https://www.kaggle.com/colinmorris/loops-and-list-comprehensions)**, which is where lists and tuples get really interesting. "
   ]
  },
  {
   "cell_type": "markdown",
   "id": "a0e056ab",
   "metadata": {
    "papermill": {
     "duration": 0.006488,
     "end_time": "2022-10-19T21:38:14.328310",
     "exception": false,
     "start_time": "2022-10-19T21:38:14.321822",
     "status": "completed"
    },
    "tags": []
   },
   "source": [
    "---\n",
    "\n",
    "\n",
    "\n",
    "\n",
    "*Have questions or comments? Visit the [course discussion forum](https://www.kaggle.com/learn/python/discussion) to chat with other learners.*"
   ]
  }
 ],
 "metadata": {
  "kernelspec": {
   "display_name": "Python 3",
   "language": "python",
   "name": "python3"
  },
  "language_info": {
   "codemirror_mode": {
    "name": "ipython",
    "version": 3
   },
   "file_extension": ".py",
   "mimetype": "text/x-python",
   "name": "python",
   "nbconvert_exporter": "python",
   "pygments_lexer": "ipython3",
   "version": "3.7.12"
  },
  "papermill": {
   "default_parameters": {},
   "duration": 10.887961,
   "end_time": "2022-10-19T21:38:15.259580",
   "environment_variables": {},
   "exception": null,
   "input_path": "__notebook__.ipynb",
   "output_path": "__notebook__.ipynb",
   "parameters": {},
   "start_time": "2022-10-19T21:38:04.371619",
   "version": "2.3.4"
  }
 },
 "nbformat": 4,
 "nbformat_minor": 5
}
