{
 "cells": [
  {
   "cell_type": "markdown",
   "id": "1026f7bb",
   "metadata": {
    "papermill": {
     "duration": 0.007649,
     "end_time": "2022-10-19T16:23:04.538728",
     "exception": false,
     "start_time": "2022-10-19T16:23:04.531079",
     "status": "completed"
    },
    "tags": []
   },
   "source": [
    "**This notebook is an exercise in the [Intro to Programming](https://www.kaggle.com/learn/intro-to-programming) course.  You can reference the tutorial at [this link](https://www.kaggle.com/alexisbcook/data-types).**\n",
    "\n",
    "---\n"
   ]
  },
  {
   "cell_type": "markdown",
   "id": "f2e85126",
   "metadata": {
    "papermill": {
     "duration": 0.006187,
     "end_time": "2022-10-19T16:23:04.551532",
     "exception": false,
     "start_time": "2022-10-19T16:23:04.545345",
     "status": "completed"
    },
    "tags": []
   },
   "source": [
    "In the tutorial, you learned about four different data types: floats, integers, strings, and booleans.  In this exercise, you'll experiment with them.\n",
    "\n",
    "# Set up the notebook\n",
    "\n",
    "Run the next code cell without changes to set up the notebook."
   ]
  },
  {
   "cell_type": "code",
   "execution_count": 1,
   "id": "be7a46b6",
   "metadata": {
    "execution": {
     "iopub.execute_input": "2022-10-19T16:23:04.566103Z",
     "iopub.status.busy": "2022-10-19T16:23:04.565650Z",
     "iopub.status.idle": "2022-10-19T16:23:04.620459Z",
     "shell.execute_reply": "2022-10-19T16:23:04.619523Z"
    },
    "papermill": {
     "duration": 0.065427,
     "end_time": "2022-10-19T16:23:04.623217",
     "exception": false,
     "start_time": "2022-10-19T16:23:04.557790",
     "status": "completed"
    },
    "tags": []
   },
   "outputs": [
    {
     "name": "stdout",
     "output_type": "stream",
     "text": [
      "Setup complete.\n"
     ]
    }
   ],
   "source": [
    "# Set up the exercise\n",
    "from learntools.core import binder\n",
    "binder.bind(globals())\n",
    "from learntools.intro_to_programming.ex3 import *\n",
    "print('Setup complete.')"
   ]
  },
  {
   "cell_type": "markdown",
   "id": "6b3cf8c8",
   "metadata": {
    "papermill": {
     "duration": 0.006131,
     "end_time": "2022-10-19T16:23:04.636317",
     "exception": false,
     "start_time": "2022-10-19T16:23:04.630186",
     "status": "completed"
    },
    "tags": []
   },
   "source": [
    "# Question 1\n",
    "\n",
    "You have seen how to convert a float to an integer with the `int` function.  Try this out yourself by running the code cell below."
   ]
  },
  {
   "cell_type": "code",
   "execution_count": 2,
   "id": "c711a836",
   "metadata": {
    "execution": {
     "iopub.execute_input": "2022-10-19T16:23:04.651317Z",
     "iopub.status.busy": "2022-10-19T16:23:04.650504Z",
     "iopub.status.idle": "2022-10-19T16:23:04.657252Z",
     "shell.execute_reply": "2022-10-19T16:23:04.656120Z"
    },
    "papermill": {
     "duration": 0.01656,
     "end_time": "2022-10-19T16:23:04.659364",
     "exception": false,
     "start_time": "2022-10-19T16:23:04.642804",
     "status": "completed"
    },
    "tags": []
   },
   "outputs": [
    {
     "name": "stdout",
     "output_type": "stream",
     "text": [
      "1.0\n",
      "<class 'float'>\n",
      "1\n",
      "<class 'int'>\n"
     ]
    }
   ],
   "source": [
    "# Define a float\n",
    "y = 1.\n",
    "print(y)\n",
    "print(type(y))\n",
    "\n",
    "# Convert float to integer with the int function\n",
    "z = int(y)\n",
    "print(z)\n",
    "print(type(z))"
   ]
  },
  {
   "cell_type": "markdown",
   "id": "bf244588",
   "metadata": {
    "papermill": {
     "duration": 0.006106,
     "end_time": "2022-10-19T16:23:04.671942",
     "exception": false,
     "start_time": "2022-10-19T16:23:04.665836",
     "status": "completed"
    },
    "tags": []
   },
   "source": [
    "In this case, the float you are using has no numbers after the decimal.  \n",
    "- But what happens when you try to convert a float with a fractional part to an integer?  \n",
    "- How does the outcome of the `int` function change for positive and negative numbers?\n",
    "\n",
    "Use the next code cell to investigate and answer these questions.  Feel free to add or remove any lines of code -- it is your workspace!"
   ]
  },
  {
   "cell_type": "code",
   "execution_count": 3,
   "id": "ecaae76a",
   "metadata": {
    "execution": {
     "iopub.execute_input": "2022-10-19T16:23:04.687070Z",
     "iopub.status.busy": "2022-10-19T16:23:04.686412Z",
     "iopub.status.idle": "2022-10-19T16:23:04.692499Z",
     "shell.execute_reply": "2022-10-19T16:23:04.691211Z"
    },
    "papermill": {
     "duration": 0.016416,
     "end_time": "2022-10-19T16:23:04.694820",
     "exception": false,
     "start_time": "2022-10-19T16:23:04.678404",
     "status": "completed"
    },
    "tags": []
   },
   "outputs": [
    {
     "name": "stdout",
     "output_type": "stream",
     "text": [
      "1\n",
      "1\n",
      "-3\n",
      "-2\n"
     ]
    }
   ],
   "source": [
    "# Uncomment and run this code to get started!\n",
    "print(int(1.2321))\n",
    "print(int(1.747))\n",
    "print(int(-3.94535))\n",
    "print(int(-2.19774))"
   ]
  },
  {
   "cell_type": "markdown",
   "id": "302add93",
   "metadata": {
    "papermill": {
     "duration": 0.006366,
     "end_time": "2022-10-19T16:23:04.707655",
     "exception": false,
     "start_time": "2022-10-19T16:23:04.701289",
     "status": "completed"
    },
    "tags": []
   },
   "source": [
    "Once you have an answer, run the code cell below to see the solution.  Viewing the solution will give you credit for answering the problem."
   ]
  },
  {
   "cell_type": "code",
   "execution_count": 4,
   "id": "b1d7a79d",
   "metadata": {
    "execution": {
     "iopub.execute_input": "2022-10-19T16:23:04.722825Z",
     "iopub.status.busy": "2022-10-19T16:23:04.722071Z",
     "iopub.status.idle": "2022-10-19T16:23:04.733269Z",
     "shell.execute_reply": "2022-10-19T16:23:04.732103Z"
    },
    "papermill": {
     "duration": 0.021311,
     "end_time": "2022-10-19T16:23:04.735564",
     "exception": false,
     "start_time": "2022-10-19T16:23:04.714253",
     "status": "completed"
    },
    "tags": []
   },
   "outputs": [
    {
     "data": {
      "application/javascript": [
       "parent.postMessage({\"jupyterEvent\": \"custom.exercise_interaction\", \"data\": {\"outcomeType\": 1, \"valueTowardsCompletion\": 0.2, \"interactionType\": 1, \"questionType\": 4, \"questionId\": \"1_FloatToInt\", \"learnToolsVersion\": \"0.3.4\", \"failureMessage\": \"\", \"exceptionClass\": \"\", \"trace\": \"\"}}, \"*\")"
      ],
      "text/plain": [
       "<IPython.core.display.Javascript object>"
      ]
     },
     "metadata": {},
     "output_type": "display_data"
    },
    {
     "data": {
      "text/markdown": [
       "<span style=\"color:#33cc33\">Correct:</span> \n",
       "\n",
       "Negative floats are always rounded UP to the closest integer (for instance, both -1.1 and -1.9 are rounded up to -1). Positive floats are always rounded DOWN to the closest integer (for instance, 2.1 and 2.9 are rounded down to 2)."
      ],
      "text/plain": [
       "Correct: \n",
       "\n",
       "Negative floats are always rounded UP to the closest integer (for instance, both -1.1 and -1.9 are rounded up to -1). Positive floats are always rounded DOWN to the closest integer (for instance, 2.1 and 2.9 are rounded down to 2)."
      ]
     },
     "metadata": {},
     "output_type": "display_data"
    }
   ],
   "source": [
    "# Check your answer (Run this code cell to receive credit!)\n",
    "q1.check()"
   ]
  },
  {
   "cell_type": "markdown",
   "id": "71dd72cb",
   "metadata": {
    "papermill": {
     "duration": 0.006432,
     "end_time": "2022-10-19T16:23:04.748917",
     "exception": false,
     "start_time": "2022-10-19T16:23:04.742485",
     "status": "completed"
    },
    "tags": []
   },
   "source": [
    "# Question 2\n",
    "\n",
    "In the tutorial, you learned about booleans (which can take a value of `True` or `False`), in addition to integers, floats, and strings.  For this question, your goal is to determine what happens when you multiply a boolean by any of these data types.  Specifically, \n",
    "- What happens when you multiply an integer or float by `True`?  What happens when you multiply them by `False`?  How does the answer change if the numbers are positive or negative?\n",
    "- What happens when you multiply a string by `True`?  By `False`?\n",
    "\n",
    "Use the next code cell for your investigation. "
   ]
  },
  {
   "cell_type": "code",
   "execution_count": 5,
   "id": "d5046199",
   "metadata": {
    "execution": {
     "iopub.execute_input": "2022-10-19T16:23:04.764131Z",
     "iopub.status.busy": "2022-10-19T16:23:04.763711Z",
     "iopub.status.idle": "2022-10-19T16:23:04.769985Z",
     "shell.execute_reply": "2022-10-19T16:23:04.768872Z"
    },
    "papermill": {
     "duration": 0.016646,
     "end_time": "2022-10-19T16:23:04.772254",
     "exception": false,
     "start_time": "2022-10-19T16:23:04.755608",
     "status": "completed"
    },
    "tags": []
   },
   "outputs": [
    {
     "name": "stdout",
     "output_type": "stream",
     "text": [
      "3\n",
      "-3.1\n",
      "<class 'str'>\n",
      "0\n"
     ]
    }
   ],
   "source": [
    "# Uncomment and run this code to get started!\n",
    "print(3 * True)\n",
    "print(-3.1 * True)\n",
    "print(type(\"abc\" * False))\n",
    "print(len(\"abc\" * False))"
   ]
  },
  {
   "cell_type": "markdown",
   "id": "5869c972",
   "metadata": {
    "papermill": {
     "duration": 0.006462,
     "end_time": "2022-10-19T16:23:04.786653",
     "exception": false,
     "start_time": "2022-10-19T16:23:04.780191",
     "status": "completed"
    },
    "tags": []
   },
   "source": [
    "Once you have an answer, run the code cell below to see the solution.  Viewing the solution will give you credit for answering the problem."
   ]
  },
  {
   "cell_type": "code",
   "execution_count": 6,
   "id": "aa774c10",
   "metadata": {
    "execution": {
     "iopub.execute_input": "2022-10-19T16:23:04.802635Z",
     "iopub.status.busy": "2022-10-19T16:23:04.801725Z",
     "iopub.status.idle": "2022-10-19T16:23:04.809993Z",
     "shell.execute_reply": "2022-10-19T16:23:04.809134Z"
    },
    "papermill": {
     "duration": 0.01872,
     "end_time": "2022-10-19T16:23:04.812163",
     "exception": false,
     "start_time": "2022-10-19T16:23:04.793443",
     "status": "completed"
    },
    "tags": []
   },
   "outputs": [
    {
     "data": {
      "application/javascript": [
       "parent.postMessage({\"jupyterEvent\": \"custom.exercise_interaction\", \"data\": {\"outcomeType\": 1, \"valueTowardsCompletion\": 0.2, \"interactionType\": 1, \"questionType\": 4, \"questionId\": \"2_MultiplyBooleans\", \"learnToolsVersion\": \"0.3.4\", \"failureMessage\": \"\", \"exceptionClass\": \"\", \"trace\": \"\"}}, \"*\")"
      ],
      "text/plain": [
       "<IPython.core.display.Javascript object>"
      ]
     },
     "metadata": {},
     "output_type": "display_data"
    },
    {
     "data": {
      "text/markdown": [
       "<span style=\"color:#33cc33\">Correct:</span> \n",
       "\n",
       "When you multiple an integer or float by a boolean with value `True`, it just returns that same integer or float (and is equivalent to multiplying by 1).  If you multiply an integer or float by a boolean with value `False`, it always returns 0.  This is true for both positive and negative numbers.  If you multiply a string by a boolean with value `True`, it just returns that same string.  And if you multiply a string by a boolean with value `False`, it returns an empty string (or a string with length zero)."
      ],
      "text/plain": [
       "Correct: \n",
       "\n",
       "When you multiple an integer or float by a boolean with value `True`, it just returns that same integer or float (and is equivalent to multiplying by 1).  If you multiply an integer or float by a boolean with value `False`, it always returns 0.  This is true for both positive and negative numbers.  If you multiply a string by a boolean with value `True`, it just returns that same string.  And if you multiply a string by a boolean with value `False`, it returns an empty string (or a string with length zero)."
      ]
     },
     "metadata": {},
     "output_type": "display_data"
    }
   ],
   "source": [
    "# Check your answer (Run this code cell to receive credit!)\n",
    "q2.check()"
   ]
  },
  {
   "cell_type": "markdown",
   "id": "10b96d98",
   "metadata": {
    "papermill": {
     "duration": 0.006687,
     "end_time": "2022-10-19T16:23:04.826086",
     "exception": false,
     "start_time": "2022-10-19T16:23:04.819399",
     "status": "completed"
    },
    "tags": []
   },
   "source": [
    "# Question 3\n",
    "\n",
    "In this question, you will build off your work from the previous exercise to write a function that estimates the value of a house.\n",
    "\n",
    "Use the next code cell to create a function `get_expected_cost` that takes as input three variables:\n",
    "- `beds` - number of bedrooms (data type float)\n",
    "- `baths` - number of bathrooms (data type float)\n",
    "- `has_basement` - whether or not the house has a basement (data type boolean)\n",
    "\n",
    "It should return the expected cost of a house with those characteristics. Assume that:\n",
    "- the expected cost for a house with 0 bedrooms and 0 bathrooms, and no basement is 80000, \n",
    "- each bedroom adds 30000 to the expected cost,\n",
    "- each bathroom adds 10000 to the expected cost, and\n",
    "- a basement adds 40000 to the expected cost.\n",
    "\n",
    "For instance,\n",
    "- a house with 1 bedroom, 1 bathroom, and no basement has an expected cost of 80000 + 30000 + 10000 = 120000.  This value will be calculated with `get_expected_cost(1, 1, False)`.\n",
    "- a house with 2 bedrooms, 1 bathroom, and a basement has an expected cost of 80000 + 2*30000 + 10000 + 40000 = 190000.  This value will be calculated with `get_expected_cost(2, 1, True)`.\n",
    "\n",
    "Remember you can always get a hint by uncommenting `q3.hint()` in the code cell following the next!"
   ]
  },
  {
   "cell_type": "code",
   "execution_count": 7,
   "id": "1e9bcf5e",
   "metadata": {
    "execution": {
     "iopub.execute_input": "2022-10-19T16:23:04.842182Z",
     "iopub.status.busy": "2022-10-19T16:23:04.841392Z",
     "iopub.status.idle": "2022-10-19T16:23:04.851515Z",
     "shell.execute_reply": "2022-10-19T16:23:04.850373Z"
    },
    "papermill": {
     "duration": 0.020718,
     "end_time": "2022-10-19T16:23:04.853922",
     "exception": false,
     "start_time": "2022-10-19T16:23:04.833204",
     "status": "completed"
    },
    "tags": []
   },
   "outputs": [
    {
     "data": {
      "application/javascript": [
       "parent.postMessage({\"jupyterEvent\": \"custom.exercise_interaction\", \"data\": {\"outcomeType\": 1, \"valueTowardsCompletion\": 0.2, \"interactionType\": 1, \"questionType\": 2, \"questionId\": \"3_EstimateHouseValueBool\", \"learnToolsVersion\": \"0.3.4\", \"failureMessage\": \"\", \"exceptionClass\": \"\", \"trace\": \"\"}}, \"*\")"
      ],
      "text/plain": [
       "<IPython.core.display.Javascript object>"
      ]
     },
     "metadata": {},
     "output_type": "display_data"
    },
    {
     "data": {
      "text/markdown": [
       "<span style=\"color:#33cc33\">Correct</span>"
      ],
      "text/plain": [
       "Correct"
      ]
     },
     "metadata": {},
     "output_type": "display_data"
    }
   ],
   "source": [
    "# TODO: Complete the function\n",
    "def get_expected_cost(beds, baths, has_basement):\n",
    "    value = 80000 + (30000 * beds) + (10000 * baths) + (40000 * has_basement) \n",
    "    return value\n",
    "\n",
    "# Check your answer \n",
    "q3.check()"
   ]
  },
  {
   "cell_type": "code",
   "execution_count": 8,
   "id": "6dfbd9b6",
   "metadata": {
    "execution": {
     "iopub.execute_input": "2022-10-19T16:23:04.870150Z",
     "iopub.status.busy": "2022-10-19T16:23:04.869703Z",
     "iopub.status.idle": "2022-10-19T16:23:04.881594Z",
     "shell.execute_reply": "2022-10-19T16:23:04.880807Z"
    },
    "papermill": {
     "duration": 0.022575,
     "end_time": "2022-10-19T16:23:04.883809",
     "exception": false,
     "start_time": "2022-10-19T16:23:04.861234",
     "status": "completed"
    },
    "tags": []
   },
   "outputs": [
    {
     "data": {
      "application/javascript": [
       "parent.postMessage({\"jupyterEvent\": \"custom.exercise_interaction\", \"data\": {\"interactionType\": 2, \"questionType\": 2, \"questionId\": \"3_EstimateHouseValueBool\", \"learnToolsVersion\": \"0.3.4\", \"valueTowardsCompletion\": 0.0, \"failureMessage\": \"\", \"exceptionClass\": \"\", \"trace\": \"\", \"outcomeType\": 4}}, \"*\")"
      ],
      "text/plain": [
       "<IPython.core.display.Javascript object>"
      ]
     },
     "metadata": {},
     "output_type": "display_data"
    },
    {
     "data": {
      "text/markdown": [
       "<span style=\"color:#3366cc\">Hint:</span> The variable `has_basement` is either `True` or `False`.  What happens when you multiply it by 40000 (the value of a basement)?  Refer to the previous question if you are unsure."
      ],
      "text/plain": [
       "Hint: The variable `has_basement` is either `True` or `False`.  What happens when you multiply it by 40000 (the value of a basement)?  Refer to the previous question if you are unsure."
      ]
     },
     "metadata": {},
     "output_type": "display_data"
    },
    {
     "data": {
      "application/javascript": [
       "parent.postMessage({\"jupyterEvent\": \"custom.exercise_interaction\", \"data\": {\"interactionType\": 3, \"questionType\": 2, \"questionId\": \"3_EstimateHouseValueBool\", \"learnToolsVersion\": \"0.3.4\", \"valueTowardsCompletion\": 0.0, \"failureMessage\": \"\", \"exceptionClass\": \"\", \"trace\": \"\", \"outcomeType\": 4}}, \"*\")"
      ],
      "text/plain": [
       "<IPython.core.display.Javascript object>"
      ]
     },
     "metadata": {},
     "output_type": "display_data"
    },
    {
     "data": {
      "text/markdown": [
       "<span style=\"color:#33cc99\">Solution:</span> \n",
       "```python\n",
       "def get_expected_cost(beds, baths, has_basement):\n",
       "    value = 80000 + 30000 * beds + 10000 * baths + 40000 * has_basement\n",
       "    return value\n",
       "\n",
       "```"
      ],
      "text/plain": [
       "Solution: \n",
       "```python\n",
       "def get_expected_cost(beds, baths, has_basement):\n",
       "    value = 80000 + 30000 * beds + 10000 * baths + 40000 * has_basement\n",
       "    return value\n",
       "\n",
       "```"
      ]
     },
     "metadata": {},
     "output_type": "display_data"
    }
   ],
   "source": [
    "# Uncomment to see a hint\n",
    "q3.hint()\n",
    "\n",
    "# Uncomment to view the solution\n",
    "q3.solution()"
   ]
  },
  {
   "cell_type": "markdown",
   "id": "add3e88d",
   "metadata": {
    "papermill": {
     "duration": 0.007559,
     "end_time": "2022-10-19T16:23:04.899095",
     "exception": false,
     "start_time": "2022-10-19T16:23:04.891536",
     "status": "completed"
    },
    "tags": []
   },
   "source": [
    "# Question 4\n",
    "\n",
    "We'll continue our study of boolean arithmetic.  For this question, your task is to provide a description of what happpens when you add booleans. \n",
    "\n",
    "Use the next code cell for your investigation.  Feel free to add or remove any lines of code - use it as your workspace!"
   ]
  },
  {
   "cell_type": "code",
   "execution_count": 9,
   "id": "11a36267",
   "metadata": {
    "execution": {
     "iopub.execute_input": "2022-10-19T16:23:04.916124Z",
     "iopub.status.busy": "2022-10-19T16:23:04.915686Z",
     "iopub.status.idle": "2022-10-19T16:23:04.922183Z",
     "shell.execute_reply": "2022-10-19T16:23:04.920876Z"
    },
    "papermill": {
     "duration": 0.017745,
     "end_time": "2022-10-19T16:23:04.924543",
     "exception": false,
     "start_time": "2022-10-19T16:23:04.906798",
     "status": "completed"
    },
    "tags": []
   },
   "outputs": [
    {
     "name": "stdout",
     "output_type": "stream",
     "text": [
      "0\n",
      "1\n",
      "1\n",
      "2\n",
      "3\n"
     ]
    }
   ],
   "source": [
    "print(False + False)\n",
    "print(True + False)\n",
    "print(False + True)\n",
    "print(True + True)\n",
    "print(False + True + True + True)"
   ]
  },
  {
   "cell_type": "markdown",
   "id": "fe49a3ad",
   "metadata": {
    "papermill": {
     "duration": 0.00759,
     "end_time": "2022-10-19T16:23:04.940134",
     "exception": false,
     "start_time": "2022-10-19T16:23:04.932544",
     "status": "completed"
    },
    "tags": []
   },
   "source": [
    "Once you have an answer, run the code cell below to see the solution.  Viewing the solution will give you credit for answering the problem."
   ]
  },
  {
   "cell_type": "code",
   "execution_count": 10,
   "id": "c36faba0",
   "metadata": {
    "execution": {
     "iopub.execute_input": "2022-10-19T16:23:04.958101Z",
     "iopub.status.busy": "2022-10-19T16:23:04.957707Z",
     "iopub.status.idle": "2022-10-19T16:23:04.966295Z",
     "shell.execute_reply": "2022-10-19T16:23:04.965095Z"
    },
    "papermill": {
     "duration": 0.020572,
     "end_time": "2022-10-19T16:23:04.968557",
     "exception": false,
     "start_time": "2022-10-19T16:23:04.947985",
     "status": "completed"
    },
    "tags": []
   },
   "outputs": [
    {
     "data": {
      "application/javascript": [
       "parent.postMessage({\"jupyterEvent\": \"custom.exercise_interaction\", \"data\": {\"outcomeType\": 1, \"valueTowardsCompletion\": 0.2, \"interactionType\": 1, \"questionType\": 4, \"questionId\": \"4_AddingBooleans\", \"learnToolsVersion\": \"0.3.4\", \"failureMessage\": \"\", \"exceptionClass\": \"\", \"trace\": \"\"}}, \"*\")"
      ],
      "text/plain": [
       "<IPython.core.display.Javascript object>"
      ]
     },
     "metadata": {},
     "output_type": "display_data"
    },
    {
     "data": {
      "text/markdown": [
       "<span style=\"color:#33cc33\">Correct:</span> \n",
       "\n",
       "When you add booleans, adding `False` is equivalent to adding 0, and adding `True` is equivalent to adding 1."
      ],
      "text/plain": [
       "Correct: \n",
       "\n",
       "When you add booleans, adding `False` is equivalent to adding 0, and adding `True` is equivalent to adding 1."
      ]
     },
     "metadata": {},
     "output_type": "display_data"
    }
   ],
   "source": [
    "# Check your answer (Run this code cell to receive credit!)\n",
    "q4.check()"
   ]
  },
  {
   "cell_type": "markdown",
   "id": "3ef00be2",
   "metadata": {
    "papermill": {
     "duration": 0.007833,
     "end_time": "2022-10-19T16:23:04.984462",
     "exception": false,
     "start_time": "2022-10-19T16:23:04.976629",
     "status": "completed"
    },
    "tags": []
   },
   "source": [
    "# 🌶️ Question 5\n",
    "\n",
    "You own an online shop where you sell rings with custom engravings.  You offer both gold plated and solid gold rings.\n",
    "- Gold plated rings have a base cost of \\\\$50, and you charge \\\\$7 per engraved unit.  \n",
    "- Solid gold rings have a base cost of \\\\$100, and you charge \\\\$10 per engraved unit.\n",
    "- Spaces and punctuation are counted as engraved units.\n",
    "\n",
    "Write a function `cost_of_project()` that takes two arguments:\n",
    "- `engraving` - a Python string with the text of the engraving\n",
    "- `solid_gold` - a Boolean that indicates whether the ring is solid gold\n",
    "\n",
    "It should return the cost of the project.  This question should be fairly challenging, and you may need a hint."
   ]
  },
  {
   "cell_type": "code",
   "execution_count": 11,
   "id": "ce07183a",
   "metadata": {
    "execution": {
     "iopub.execute_input": "2022-10-19T16:23:05.002349Z",
     "iopub.status.busy": "2022-10-19T16:23:05.001951Z",
     "iopub.status.idle": "2022-10-19T16:23:05.011505Z",
     "shell.execute_reply": "2022-10-19T16:23:05.010517Z"
    },
    "papermill": {
     "duration": 0.021097,
     "end_time": "2022-10-19T16:23:05.013658",
     "exception": false,
     "start_time": "2022-10-19T16:23:04.992561",
     "status": "completed"
    },
    "tags": []
   },
   "outputs": [
    {
     "data": {
      "application/javascript": [
       "parent.postMessage({\"jupyterEvent\": \"custom.exercise_interaction\", \"data\": {\"outcomeType\": 1, \"valueTowardsCompletion\": 0.2, \"interactionType\": 1, \"questionType\": 2, \"questionId\": \"5_CustomEngravings\", \"learnToolsVersion\": \"0.3.4\", \"failureMessage\": \"\", \"exceptionClass\": \"\", \"trace\": \"\"}}, \"*\")"
      ],
      "text/plain": [
       "<IPython.core.display.Javascript object>"
      ]
     },
     "metadata": {},
     "output_type": "display_data"
    },
    {
     "data": {
      "text/markdown": [
       "<span style=\"color:#33cc33\">Correct</span>"
      ],
      "text/plain": [
       "Correct"
      ]
     },
     "metadata": {},
     "output_type": "display_data"
    }
   ],
   "source": [
    "def cost_of_project(engraving, solid_gold):\n",
    "    cost = 100 + (len(engraving) * 10) if solid_gold == True else 50 + (len(engraving) * 7)\n",
    "    return cost\n",
    "\n",
    "# Check your answer\n",
    "q5.check()"
   ]
  },
  {
   "cell_type": "code",
   "execution_count": 12,
   "id": "300e4016",
   "metadata": {
    "execution": {
     "iopub.execute_input": "2022-10-19T16:23:05.032175Z",
     "iopub.status.busy": "2022-10-19T16:23:05.031730Z",
     "iopub.status.idle": "2022-10-19T16:23:05.041494Z",
     "shell.execute_reply": "2022-10-19T16:23:05.040286Z"
    },
    "papermill": {
     "duration": 0.021637,
     "end_time": "2022-10-19T16:23:05.043706",
     "exception": false,
     "start_time": "2022-10-19T16:23:05.022069",
     "status": "completed"
    },
    "tags": []
   },
   "outputs": [
    {
     "data": {
      "application/javascript": [
       "parent.postMessage({\"jupyterEvent\": \"custom.exercise_interaction\", \"data\": {\"interactionType\": 2, \"questionType\": 2, \"questionId\": \"5_CustomEngravings\", \"learnToolsVersion\": \"0.3.4\", \"valueTowardsCompletion\": 0.0, \"failureMessage\": \"\", \"exceptionClass\": \"\", \"trace\": \"\", \"outcomeType\": 4}}, \"*\")"
      ],
      "text/plain": [
       "<IPython.core.display.Javascript object>"
      ]
     },
     "metadata": {},
     "output_type": "display_data"
    },
    {
     "data": {
      "text/markdown": [
       "<span style=\"color:#3366cc\">Hint:</span> There are two options - either the project uses solid gold or does not.  With this in mind, you can structure your solution like this: `cost = solid_gold * ____ + (not_solid_gold) * ____`.  You need to figure out how to fill in the blanks. Also, remember that:\n",
       "- If `solid_gold = True`, then `(not solid_gold) = False`, and if `solid_gold = False`, then `(not solid_gold) = True`.\n",
       "- Multiplying an integer by `True` is equivalent to multiplying it by 1, and multiplying an integer by `False` is equivalent to multiplying it by 0."
      ],
      "text/plain": [
       "Hint: There are two options - either the project uses solid gold or does not.  With this in mind, you can structure your solution like this: `cost = solid_gold * ____ + (not_solid_gold) * ____`.  You need to figure out how to fill in the blanks. Also, remember that:\n",
       "- If `solid_gold = True`, then `(not solid_gold) = False`, and if `solid_gold = False`, then `(not solid_gold) = True`.\n",
       "- Multiplying an integer by `True` is equivalent to multiplying it by 1, and multiplying an integer by `False` is equivalent to multiplying it by 0."
      ]
     },
     "metadata": {},
     "output_type": "display_data"
    }
   ],
   "source": [
    "# Uncomment to see a hint\n",
    "q5.hint()\n",
    "\n",
    "# Uncomment to view the solution\n",
    "#q5.solution()"
   ]
  },
  {
   "cell_type": "markdown",
   "id": "3efdf245",
   "metadata": {
    "papermill": {
     "duration": 0.008269,
     "end_time": "2022-10-19T16:23:05.060672",
     "exception": false,
     "start_time": "2022-10-19T16:23:05.052403",
     "status": "completed"
    },
    "tags": []
   },
   "source": [
    "Run the next code cell to calculate the cost of engraving `Charlie+Denver` on a solid gold ring."
   ]
  },
  {
   "cell_type": "code",
   "execution_count": 13,
   "id": "19ca4084",
   "metadata": {
    "execution": {
     "iopub.execute_input": "2022-10-19T16:23:05.079563Z",
     "iopub.status.busy": "2022-10-19T16:23:05.078915Z",
     "iopub.status.idle": "2022-10-19T16:23:05.084951Z",
     "shell.execute_reply": "2022-10-19T16:23:05.083717Z"
    },
    "papermill": {
     "duration": 0.018313,
     "end_time": "2022-10-19T16:23:05.087511",
     "exception": false,
     "start_time": "2022-10-19T16:23:05.069198",
     "status": "completed"
    },
    "tags": []
   },
   "outputs": [
    {
     "name": "stdout",
     "output_type": "stream",
     "text": [
      "240\n"
     ]
    }
   ],
   "source": [
    "project_one = cost_of_project(\"Charlie+Denver\", True)\n",
    "print(project_one)"
   ]
  },
  {
   "cell_type": "markdown",
   "id": "ebb78837",
   "metadata": {
    "papermill": {
     "duration": 0.008805,
     "end_time": "2022-10-19T16:23:05.105667",
     "exception": false,
     "start_time": "2022-10-19T16:23:05.096862",
     "status": "completed"
    },
    "tags": []
   },
   "source": [
    "Use the next code cell to calculate the cost of engraving `08/10/2000` on a gold plated ring."
   ]
  },
  {
   "cell_type": "code",
   "execution_count": 14,
   "id": "8ae2ba01",
   "metadata": {
    "execution": {
     "iopub.execute_input": "2022-10-19T16:23:05.124820Z",
     "iopub.status.busy": "2022-10-19T16:23:05.124358Z",
     "iopub.status.idle": "2022-10-19T16:23:05.130106Z",
     "shell.execute_reply": "2022-10-19T16:23:05.128818Z"
    },
    "papermill": {
     "duration": 0.018345,
     "end_time": "2022-10-19T16:23:05.132629",
     "exception": false,
     "start_time": "2022-10-19T16:23:05.114284",
     "status": "completed"
    },
    "tags": []
   },
   "outputs": [
    {
     "name": "stdout",
     "output_type": "stream",
     "text": [
      "120\n"
     ]
    }
   ],
   "source": [
    "project_two = cost_of_project(\"08/10/2000\", False)\n",
    "print(project_two)"
   ]
  },
  {
   "cell_type": "markdown",
   "id": "2e9fcf4d",
   "metadata": {
    "papermill": {
     "duration": 0.008288,
     "end_time": "2022-10-19T16:23:05.149662",
     "exception": false,
     "start_time": "2022-10-19T16:23:05.141374",
     "status": "completed"
    },
    "tags": []
   },
   "source": [
    "# Keep going\n",
    "\n",
    "Continue to the next lesson to **[learn about conditions and conditional statements](https://www.kaggle.com/alexisbcook/conditions-and-conditional-statements)**."
   ]
  },
  {
   "cell_type": "markdown",
   "id": "0751fe63",
   "metadata": {
    "papermill": {
     "duration": 0.008416,
     "end_time": "2022-10-19T16:23:05.166743",
     "exception": false,
     "start_time": "2022-10-19T16:23:05.158327",
     "status": "completed"
    },
    "tags": []
   },
   "source": [
    "---\n",
    "\n",
    "\n",
    "\n",
    "\n",
    "*Have questions or comments? Visit the [course discussion forum](https://www.kaggle.com/learn/intro-to-programming/discussion) to chat with other learners.*"
   ]
  }
 ],
 "metadata": {
  "kernelspec": {
   "display_name": "Python 3",
   "language": "python",
   "name": "python3"
  },
  "language_info": {
   "codemirror_mode": {
    "name": "ipython",
    "version": 3
   },
   "file_extension": ".py",
   "mimetype": "text/x-python",
   "name": "python",
   "nbconvert_exporter": "python",
   "pygments_lexer": "ipython3",
   "version": "3.7.12"
  },
  "papermill": {
   "default_parameters": {},
   "duration": 10.55357,
   "end_time": "2022-10-19T16:23:05.796284",
   "environment_variables": {},
   "exception": null,
   "input_path": "__notebook__.ipynb",
   "output_path": "__notebook__.ipynb",
   "parameters": {},
   "start_time": "2022-10-19T16:22:55.242714",
   "version": "2.3.4"
  }
 },
 "nbformat": 4,
 "nbformat_minor": 5
}
